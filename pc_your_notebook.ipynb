{
  "nbformat": 4,
  "nbformat_minor": 0,
  "metadata": {
    "colab": {
      "provenance": [],
      "include_colab_link": true
    },
    "kernelspec": {
      "name": "python3",
      "display_name": "Python 3"
    },
    "language_info": {
      "name": "python"
    }
  },
  "cells": [
    {
      "cell_type": "markdown",
      "metadata": {
        "id": "view-in-github",
        "colab_type": "text"
      },
      "source": [
        "<a href=\"https://colab.research.google.com/github/kaojodesu/awa/blob/main/pc_your_notebook.ipynb\" target=\"_parent\"><img src=\"https://colab.research.google.com/assets/colab-badge.svg\" alt=\"Open In Colab\"/></a>"
      ]
    },
    {
      "cell_type": "markdown",
      "source": [
        "# Get data from a .csv file online"
      ],
      "metadata": {
        "id": "LVwdFpNpT-BH"
      }
    },
    {
      "cell_type": "code",
      "execution_count": null,
      "metadata": {
        "id": "FOc6ruGOT5Yl"
      },
      "outputs": [],
      "source": [
        "import pandas as pd\n",
        "from google.colab import files\n",
        "import io\n",
        "\n",
        "# random file, but use this url:\n",
        "#url = \"https://people.sc.fsu.edu/~jburkardt/data/csv/cities.csv\"\n",
        "#url = \"https://people.sc.fsu.edu/~jburkardt/data/csv/nile.csv\"\n",
        "url = \"https://people.sc.fsu.edu/~jburkardt/data/csv/letter_frequency.csv\"\n",
        "# url = input(\"URL of the csv: \")\n",
        "\n",
        "table_1 = pd.read_csv(url)\n",
        "\n",
        "#years = table_1[\"Year\"].to_numpy()\n",
        "table_1.head()\n",
        "table_1.describe()\n"
      ]
    },
    {
      "cell_type": "markdown",
      "source": [
        "# Data from an uploaded .csv file"
      ],
      "metadata": {
        "id": "TmUWTugVUoVw"
      }
    },
    {
      "cell_type": "code",
      "source": [
        "import pandas as pd\n",
        "from google.colab import files\n",
        "import io\n",
        "\n",
        "# dialog to upload from computer:\n",
        "uploaded = files.upload()\n",
        "file_name = next(iter(uploaded))\n",
        "table_1 = pd.read_csv(io.BytesIO(uploaded[file_name]))\n",
        "table_1\n"
      ],
      "metadata": {
        "id": "veJmYh2BUthd"
      },
      "execution_count": null,
      "outputs": []
    },
    {
      "cell_type": "markdown",
      "source": [
        "# Data from a table on a web page"
      ],
      "metadata": {
        "id": "u0rEHIT68YE2"
      }
    },
    {
      "cell_type": "code",
      "source": [
        "import pandas as pd\n",
        "import numpy as np\n",
        "\n",
        "URL = \"https://en.wikipedia.org/wiki/Philadelphia_Phillies\"\n",
        "# URL = \"https://en.wikipedia.org/wiki/Cricket_World_Cup\"\n",
        "tables = pd.read_html(URL)\n",
        "print(\"There are : \",len(tables),\" tables\")\n",
        "print(\"Take look at the table:\")\n",
        "table_1 = tables[4]\n",
        "table_1\n",
        "\n"
      ],
      "metadata": {
        "id": "Alv3WZuT8dpu"
      },
      "execution_count": null,
      "outputs": []
    },
    {
      "cell_type": "markdown",
      "source": [
        "Continue the above code"
      ],
      "metadata": {
        "id": "xZEMvpN_MAxs"
      }
    },
    {
      "cell_type": "code",
      "source": [
        "# WPct\n",
        "wins = np.array(table_1[\"Wins\"])\n",
        "losses = np.array(table_1[\"Losses\"])\n",
        "avg = wins/(wins+losses)\n",
        "#print(avg)\n",
        "table_1[\"Average\"] = avg\n",
        "print(table_1[[\"Manager\",\"WPct\",\"Average\"]])\n"
      ],
      "metadata": {
        "id": "YTCx30UAL56G"
      },
      "execution_count": null,
      "outputs": []
    },
    {
      "cell_type": "markdown",
      "source": [
        "Another example with tides"
      ],
      "metadata": {
        "id": "EPB7OXYrEKLb"
      }
    },
    {
      "cell_type": "code",
      "source": [
        "import pandas as pd\n",
        "import numpy as np\n",
        "from datetime import datetime\n",
        "import calendar\n",
        "\n",
        "URL = \"https://marineweather.net/tide/cape-may-canal-cape-may-delaware-bay-nj-tides\"\n",
        "tables = pd.read_html(URL)\n",
        "print(\"There are : \",len(tables),\" tables\")\n",
        "print(\"Take look at the table:\")\n",
        "#print(tables[0])\n",
        "table_1 = tables[0]\n",
        "table_1.head()\n"
      ],
      "metadata": {
        "id": "UFPtB3KoD_MM"
      },
      "execution_count": null,
      "outputs": []
    },
    {
      "cell_type": "markdown",
      "source": [
        "Continuing the tide example"
      ],
      "metadata": {
        "id": "ENZszrF7eQH2"
      }
    },
    {
      "cell_type": "code",
      "source": [
        "# trying different things\n",
        "\n",
        "# Converting strings to epoch time\n",
        "time_list = table_1[\"Time\"]\n",
        "date_list = table_1[\"Date\"]\n",
        "h_array = []\n",
        "m_array = []\n",
        "d_array = []\n",
        "epoch_array = []\n",
        "\n",
        "for t in time_list:\n",
        "    a = t.split(\":\")\n",
        "    hour = int(a[0])\n",
        "    b = a[1]\n",
        "    min = int(b[0:2])\n",
        "    if b[-2:] == \"pm\": hour = hour+11\n",
        "    h_array.append(hour)\n",
        "    m_array.append(min)\n",
        "    #print(hour,\":\",min)\n",
        "\n",
        "for d in date_list:\n",
        "    # print(d[8::])\n",
        "    d_array.append(int(d[8::]))\n",
        "\n",
        "for c in range(len(time_list)):\n",
        "    t = datetime(2023, 8, d_array[c], h_array[c], m_array[c], 0)\n",
        "    epoch_array.append(int(calendar.timegm(t.timetuple())))\n",
        "\n",
        "print(epoch_array)\n",
        "\n",
        "# converting tide heights to float numbers\n",
        "height_list = table_1[\"Feet\"]\n",
        "f_array = []\n",
        "for f in height_list:\n",
        "    f_array.append(float(f[0:4]))\n",
        "\n",
        "print(f_array)\n"
      ],
      "metadata": {
        "id": "VLnDcx-DDHxr"
      },
      "execution_count": null,
      "outputs": []
    },
    {
      "cell_type": "markdown",
      "source": [
        "# Data from a Google Spreadsheet\n",
        "You have to authenticate the connection at the beginning of each session, but not every time you call that spreadsheet"
      ],
      "metadata": {
        "id": "ejDCRPj99D7P"
      }
    },
    {
      "cell_type": "code",
      "source": [
        "# actual google code snippet\n",
        "\n",
        "from google.colab import auth\n",
        "auth.authenticate_user()\n",
        "import pandas as pd\n",
        "import gspread\n",
        "from google.auth import default\n",
        "creds, _ = default()\n",
        "\n",
        "gc = gspread.authorize(creds)\n",
        "\n",
        "worksheet = gc.open('comparing file types').sheet1\n",
        "\n",
        "# only need to do this once per session\n"
      ],
      "metadata": {
        "id": "3eiVI52IpIZ2"
      },
      "execution_count": null,
      "outputs": []
    },
    {
      "cell_type": "markdown",
      "source": [
        "Continuing the above code"
      ],
      "metadata": {
        "id": "XwnZzU8prsoD"
      }
    },
    {
      "cell_type": "code",
      "source": [
        "\n",
        "# get_all_values gives a list of rows.\n",
        "rows = worksheet.get_all_values()\n",
        "print(len(rows))\n",
        "x = len(rows)\n",
        "\n",
        "int_array = []\n",
        "for num in range(1,len(rows)):\n",
        "    int_array.append(int(rows[num][2]))\n",
        "\n",
        "print(int_array)\n",
        "\n"
      ],
      "metadata": {
        "id": "epedYi17rq_c"
      },
      "execution_count": null,
      "outputs": []
    },
    {
      "cell_type": "markdown",
      "source": [
        "# Read data from other file types"
      ],
      "metadata": {
        "id": "OwdLaR4L-Juc"
      }
    },
    {
      "cell_type": "code",
      "source": [
        "import pandas as pd\n",
        "\n",
        "# not a real site\n",
        "URL = \"https://website.com/filename.xlsx\"\n",
        "sheet = pd.read_excel(URL)\n",
        "sheet.head()\n"
      ],
      "metadata": {
        "id": "vbtYCxAP-NWw"
      },
      "execution_count": null,
      "outputs": []
    },
    {
      "cell_type": "markdown",
      "source": [
        "# Draw Lines"
      ],
      "metadata": {
        "id": "KmNIzC3bx-kt"
      }
    },
    {
      "cell_type": "markdown",
      "source": [
        "Simple example"
      ],
      "metadata": {
        "id": "hoppwkFTyCSs"
      }
    },
    {
      "cell_type": "code",
      "source": [
        "import matplotlib.pyplot as plt\n",
        "from matplotlib.path import Path\n",
        "import matplotlib.patches as patches\n",
        "\n",
        "verts = []\n",
        "steps = []\n",
        "\n",
        "# add starting point\n",
        "verts.append((0.,0.))\n",
        "steps.append(Path.MOVETO)\n",
        "\n",
        "# add lines one at a time\n",
        "verts.append((2.,2.))\n",
        "steps.append(Path.LINETO)\n",
        "\n",
        "# more\n",
        "verts.append((2.,-2.))\n",
        "steps.append(Path.LINETO)\n",
        "\n",
        "verts.append((0.,0.))\n",
        "steps.append(Path.CLOSEPOLY)\n",
        "\n",
        "# graph\n",
        "fig, ax = plt.subplots()\n",
        "plt.axis([-5,5,-5,5])\n",
        "path = Path(verts, steps)\n",
        "patch = patches.PathPatch(path)\n",
        "ax.add_patch(patch)\n",
        "plt.show()"
      ],
      "metadata": {
        "id": "z-y_0PxfCryM"
      },
      "execution_count": null,
      "outputs": []
    },
    {
      "cell_type": "markdown",
      "source": [
        "More elaborate arrays"
      ],
      "metadata": {
        "id": "Eb81x5t4yKd9"
      }
    },
    {
      "cell_type": "code",
      "source": [
        "import matplotlib.pyplot as plt\n",
        "from matplotlib.path import Path\n",
        "import matplotlib.patches as patches\n",
        "\n",
        "# array of points\n",
        "verts = [(0., 0.), (-1., 1.), (0., 2.), (2., 2.), (3., 1.), (2., 0.), (0., 0.),]\n",
        "\n",
        "# array of steps\n",
        "codes = [Path.MOVETO,\n",
        "         Path.LINETO,\n",
        "         Path.LINETO,\n",
        "         Path.LINETO,\n",
        "         Path.LINETO,\n",
        "         Path.LINETO,\n",
        "         Path.CLOSEPOLY, ]\n",
        "\n",
        "# graph\n",
        "fig, ax = plt.subplots()\n",
        "plt.axis([-5,5,-5,5])\n",
        "path = Path(verts, codes)\n",
        "patch = patches.PathPatch(path, facecolor='blue', lw=2)\n",
        "ax.add_patch(patch)\n",
        "plt.show()\n",
        "\n"
      ],
      "metadata": {
        "id": "9yQjJMsgx8N1"
      },
      "execution_count": null,
      "outputs": []
    },
    {
      "cell_type": "markdown",
      "source": [
        "#The triangle"
      ],
      "metadata": {
        "id": "LfsH3eCmpeJQ"
      }
    },
    {
      "cell_type": "code",
      "source": [
        "import matplotlib.pyplot as plt\n",
        "from IPython import display\n",
        "import math\n",
        "import time\n",
        "\n",
        "# This will display a right triangle\n",
        "fig, ax = plt.subplots()\n",
        "plt.axis([-2,12,-2,8])\n",
        "ax.text(0,1,'A')\n",
        "plt.plot([1],[1],'ro')\n",
        "plt.plot([1,7], [1,1], 'b')\n",
        "plt.plot([7,7], [1,4], 'b')\n",
        "plt.plot([1,7], [1,4], 'b')\n",
        "display.display(plt.gcf())\n",
        "# time.sleep(1)\n",
        "display.clear_output(wait=True)\n",
        "\n",
        "ax.text(2,0,'adjacent side')\n",
        "display.display(plt.gcf())\n",
        "# time.sleep(1.5)\n",
        "display.clear_output(wait=True)\n",
        "\n",
        "ax.text(7.5,2,'opposite side')\n",
        "display.display(plt.gcf())\n",
        "# time.sleep(1.5)\n",
        "display.clear_output(wait=True)\n",
        "\n",
        "ax.text(1,3,'hypotenuse')\n",
        "display.display(plt.gcf())\n",
        "time.sleep(1.5)\n",
        "display.clear_output(wait=True)\n",
        "\n"
      ],
      "metadata": {
        "colab": {
          "base_uri": "https://localhost:8080/",
          "height": 435
        },
        "id": "5kAzkbDMpYiF",
        "outputId": "ef20ee61-f21e-4fde-b1aa-d410e0b9ab7a"
      },
      "execution_count": null,
      "outputs": [
        {
          "output_type": "display_data",
          "data": {
            "text/plain": [
              "<Figure size 640x480 with 1 Axes>"
            ],
            "image/png": "[encoded data removed]"
          },
          "metadata": {}
        }
      ]
    },
    {
      "cell_type": "markdown",
      "source": [
        "#Python trig functions\n",
        "These functions use radians, so you have to use the `math.radians()` function inside the sine, cosine, or tangent functions."
      ],
      "metadata": {
        "id": "us2wW5pqiVfR"
      }
    },
    {
      "cell_type": "code",
      "source": [
        "import math\n",
        "\n",
        "# angle measure in degrees\n",
        "a = 30\n",
        "\n",
        "s = math.sin(math.radians(a))\n",
        "c = math.cos(math.radians(a))\n",
        "t = math.tan(math.radians(a))\n",
        "\n",
        "# rounding to four decimal places is enouogh\n",
        "print(\"The sine of \",a,\" is \", round(s,4))\n",
        "print(\"The cosine of \",a,\" is \", round(c,4))\n",
        "print(\"The tangent of \",a,\" is \", round(t,4))\n"
      ],
      "metadata": {
        "id": "1ObMrsiliUm4",
        "colab": {
          "base_uri": "https://localhost:8080/"
        },
        "outputId": "028c493f-4196-4443-ad6d-cddbfc1246dd"
      },
      "execution_count": null,
      "outputs": [
        {
          "output_type": "stream",
          "name": "stdout",
          "text": [
            "The sine of  30  is  0.5\n",
            "The cosine of  30  is  0.866\n",
            "The tangent of  30  is  0.5774\n"
          ]
        }
      ]
    },
    {
      "cell_type": "markdown",
      "source": [
        "#Complementary angles"
      ],
      "metadata": {
        "id": "Q0BOBPWJuuXT"
      }
    },
    {
      "cell_type": "code",
      "source": [
        "from io import TextIOBase\n",
        "import math\n",
        "\n",
        "# angle measure in degrees\n",
        "a = 30\n",
        "b = 90-a\n",
        "\n",
        "sa = math.sin(math.radians(a))\n",
        "ca = math.cos(math.radians(a))\n",
        "ta = math.tan(math.radians(a))\n",
        "\n",
        "# rounding to four decimal places is enouogh\n",
        "print(\"The sine of \",a,\" is \", round(sa,4))\n",
        "print(\"The cosine of \",a,\" is \", round(ca,4))\n",
        "print(\"The tangent of \",a,\" is \", round(ta,4))\n",
        "\n",
        "sb = math.sin(math.radians(b))\n",
        "cb = math.cos(math.radians(b))\n",
        "tb = math.tan(math.radians(b))\n",
        "\n",
        "# rounding to four decimal places is enouogh\n",
        "print(\"The sine of \",b,\" is \", round(sb,4))\n",
        "print(\"The cosine of \",b,\" is \", round(cb,4))\n",
        "print(\"The tangent of \",b,\" is \", round(tb,4))\n"
      ],
      "metadata": {
        "colab": {
          "base_uri": "https://localhost:8080/"
        },
        "id": "m192T8g0t6Yh",
        "outputId": "3f9e5078-406e-4f01-fd28-8f35bb036db4"
      },
      "execution_count": null,
      "outputs": [
        {
          "output_type": "stream",
          "name": "stdout",
          "text": [
            "The sine of  30  is  0.5\n",
            "The cosine of  30  is  0.866\n",
            "The tangent of  30  is  0.5774\n",
            "The sine of  60  is  0.866\n",
            "The cosine of  60  is  0.5\n",
            "The tangent of  60  is  1.7321\n"
          ]
        }
      ]
    },
    {
      "cell_type": "markdown",
      "source": [
        "#Values of the sine function"
      ],
      "metadata": {
        "id": "mFlWxl6lCK6h"
      }
    },
    {
      "cell_type": "code",
      "execution_count": null,
      "metadata": {
        "id": "YlQkBI9_h-z7"
      },
      "outputs": [],
      "source": [
        "import math\n",
        "\n",
        "for a in range(180):\n",
        "    print(\"Sine of \", a, \" = \", math.sin(math.radians(a)))\n",
        "\n"
      ]
    },
    {
      "cell_type": "markdown",
      "source": [
        "#Inverse trig functions\n",
        "The inverse sine function, also called arcsin, gives you the angle measure if you know the ratio. The `math.asin()` function will return radians so you can use the `math.degrees()` function."
      ],
      "metadata": {
        "id": "ggEx9yTemNUg"
      }
    },
    {
      "cell_type": "code",
      "source": [
        "import math\n",
        "\n",
        "print(math.degrees(math.asin(4/5)))\n"
      ],
      "metadata": {
        "id": "cevVtdVa_d0R"
      },
      "execution_count": null,
      "outputs": []
    },
    {
      "cell_type": "markdown",
      "source": [
        "#Angles and sides\n",
        "Use the conventional labels to keep things organized"
      ],
      "metadata": {
        "id": "NvP14o91J2WM"
      }
    },
    {
      "cell_type": "code",
      "source": [
        "import matplotlib.pyplot as plt\n",
        "from IPython import display\n",
        "import math\n",
        "import time\n",
        "\n",
        "fig, ax = plt.subplots()\n",
        "plt.axis([-2,12,-2,8])\n",
        "ax.text(0.5,1,'A')\n",
        "plt.plot([1],[1],'ro')\n",
        "ax.text(7.3,1,'C')\n",
        "plt.plot([7],[1],'ro')\n",
        "ax.text(7,4.3,'B')\n",
        "plt.plot([7],[4],'ro')\n",
        "\n",
        "plt.plot([1,7], [1,1], 'b')\n",
        "plt.plot([7,7], [1,4], 'b')\n",
        "plt.plot([1,7], [1,4], 'b')\n",
        "display.display(plt.gcf())\n",
        "# time.sleep(1)\n",
        "display.clear_output(wait=True)\n",
        "\n",
        "ax.text(4,0.5,'b')\n",
        "display.display(plt.gcf())\n",
        "# time.sleep(1.5)\n",
        "display.clear_output(wait=True)\n",
        "\n",
        "ax.text(7.3,2.5,'a')\n",
        "display.display(plt.gcf())\n",
        "# time.sleep(1.5)\n",
        "display.clear_output(wait=True)\n",
        "\n",
        "ax.text(4,3,'c')\n",
        "display.display(plt.gcf())\n",
        "time.sleep(1.5)\n",
        "display.clear_output(wait=True)\n",
        "\n"
      ],
      "metadata": {
        "id": "1OkNj961CdHv",
        "colab": {
          "base_uri": "https://localhost:8080/",
          "height": 435
        },
        "outputId": "3c512dae-1907-43e8-bc44-8d17c157af17"
      },
      "execution_count": null,
      "outputs": [
        {
          "output_type": "display_data",
          "data": {
            "text/plain": [
              "<Figure size 640x480 with 1 Axes>"
            ],
            "image/png": "[encoded data removed]"
          },
          "metadata": {}
        }
      ]
    },
    {
      "cell_type": "markdown",
      "source": [
        "#Sine to find side measures"
      ],
      "metadata": {
        "id": "dYlq_sY_1wI_"
      }
    },
    {
      "cell_type": "code",
      "source": [
        "import math\n",
        "\n",
        "# make the unknown value zero\n",
        "angle = 57\n",
        "opposite = 4\n",
        "hypotenuse = 0\n",
        "\n",
        "if opposite==0:\n",
        "    unknown = \"opposite side\"\n",
        "    answer = hypotenuse * math.sin(math.radians(angle))\n",
        "\n",
        "if hypotenuse==0:\n",
        "    unknown = \"hypotenuse\"\n",
        "    answer = opposite/math.sin(math.radians(angle))\n",
        "\n",
        "print(\"The \", unknown, \" is \", answer)\n",
        "\n"
      ],
      "metadata": {
        "id": "a5BFnrXT1fw-"
      },
      "execution_count": null,
      "outputs": []
    },
    {
      "cell_type": "markdown",
      "source": [
        "#Cosine to find side measures"
      ],
      "metadata": {
        "id": "kGkJBEPl3Jl3"
      }
    },
    {
      "cell_type": "code",
      "source": [
        "import math\n",
        "\n",
        "# make the unknown value zero\n",
        "angle = 57\n",
        "adjacent = 3\n",
        "hypotenuse = 0\n",
        "\n",
        "if adjacent==0:\n",
        "    unknown = \"adjacent side\"\n",
        "    answer = hypotenuse * math.cos(math.radians(angle))\n",
        "\n",
        "if hypotenuse==0:\n",
        "    unknown = \"hypotenuse\"\n",
        "    answer = adjacent/math.cos(math.radians(angle))\n",
        "\n",
        "print(\"The \", unknown, \" is \", answer)\n"
      ],
      "metadata": {
        "colab": {
          "base_uri": "https://localhost:8080/"
        },
        "id": "uhIwp4Vi3IWI",
        "outputId": "e33888bd-3451-4e95-9e11-a64a39d6cd0c"
      },
      "execution_count": null,
      "outputs": [
        {
          "output_type": "stream",
          "name": "stdout",
          "text": [
            "The  hypotenuse  is  5.508235376329989\n"
          ]
        }
      ]
    },
    {
      "cell_type": "markdown",
      "source": [
        "#Tangent to find side measures"
      ],
      "metadata": {
        "id": "YV1OxH1S3enw"
      }
    },
    {
      "cell_type": "code",
      "source": [
        "import math\n",
        "\n",
        "# make the unknown value zero\n",
        "angle =\n",
        "opposite =\n",
        "adjacent =\n",
        "\n",
        "if opposite==0:\n",
        "    unknown = \"opposite side\"\n",
        "    answer = adjacent * math.tan(math.radians(angle))\n",
        "\n",
        "if hypotenuse==0:\n",
        "    unknown = \"adjacent side\"\n",
        "    answer = opposite/math.tan(math.radians(angle))\n",
        "\n",
        "print(\"The \", unknown, \" is \", answer)\n"
      ],
      "metadata": {
        "id": "pOqhc5nM3mPE"
      },
      "execution_count": null,
      "outputs": []
    },
    {
      "cell_type": "markdown",
      "source": [
        "#Inverse trig to find angle measures"
      ],
      "metadata": {
        "id": "dPoAss617Vuu"
      }
    },
    {
      "cell_type": "code",
      "source": [
        "import math\n",
        "\n",
        "# sides - make the unknown value zero\n",
        "a =\n",
        "b =\n",
        "c =\n",
        "\n",
        "if a==0:\n",
        "    angle_A = math.degrees(math.acos(b/c))\n",
        "    angle_B = 90-angle_A\n",
        "    print(\"Angle A = \", angle_A)\n",
        "    print(\"Angle B = \", angle_B)\n",
        "\n",
        "if b==0:\n",
        "    angle_A = math.degrees(math.asin(a/c))\n",
        "    angle_B = 90-angle_A\n",
        "    print(\"Angle A = \", angle_A)\n",
        "    print(\"Angle B = \", angle_B)\n",
        "\n",
        "if c==0:\n",
        "    angle_A = math.degrees(math.atan(a/b))\n",
        "    angle_B = 90-angle_A\n",
        "    print(\"Angle A = \", angle_A)\n",
        "    print(\"Angle B = \", angle_B)\n",
        "\n",
        "\n",
        "\n",
        "\n"
      ],
      "metadata": {
        "id": "szKSsLXf4CAw"
      },
      "execution_count": null,
      "outputs": []
    },
    {
      "cell_type": "markdown",
      "source": [
        "#The Unit Circle"
      ],
      "metadata": {
        "id": "jbJuQSSyKVfo"
      }
    },
    {
      "cell_type": "code",
      "source": [
        "import matplotlib.pyplot as plt\n",
        "from IPython import display\n",
        "\n",
        "\n",
        "fig, ax = plt.subplots()\n",
        "plt.axis([-1.5,1.5,-1.5,1.5])\n",
        "plt.plot([-2,2],[0,0],'b')\n",
        "plt.plot([0,0],[-2,2],'b')\n",
        "circle = plt.Circle((0,0), 1, fill = False )\n",
        "ax.add_artist(circle)\n",
        "ax.set_aspect('equal')\n",
        "\n",
        "plt.show()\n"
      ],
      "metadata": {
        "colab": {
          "base_uri": "https://localhost:8080/",
          "height": 435
        },
        "id": "I9l6RKs2KZQv",
        "outputId": "86d57645-32d0-454a-f15b-5b1c9390d7c7"
      },
      "execution_count": null,
      "outputs": [
        {
          "output_type": "display_data",
          "data": {
            "text/plain": [
              "<Figure size 640x480 with 1 Axes>"
            ],
            "image/png": "[encoded data removed]"
          },
          "metadata": {}
        }
      ]
    },
    {
      "cell_type": "markdown",
      "source": [
        "#Triangles in the unit circle"
      ],
      "metadata": {
        "id": "4YnS6Rr2QyTm"
      }
    },
    {
      "cell_type": "code",
      "source": [
        "import matplotlib.pyplot as plt\n",
        "from IPython import display\n",
        "import math\n",
        "\n",
        "fig, ax = plt.subplots()\n",
        "plt.axis([-1.5,1.5,-1.5,1.5])\n",
        "plt.plot([-2,2],[0,0],'b')\n",
        "plt.plot([0,0],[-2,2],'b')\n",
        "circle = plt.Circle( (0,0), 1, fill = False )\n",
        "ax.add_artist(circle)\n",
        "ax.set_aspect('equal')\n",
        "\n",
        "# the triangle\n",
        "a = 1\n",
        "x = math.cos(a)\n",
        "y = math.sin(a)\n",
        "plt.plot([x],[y],'r')\n",
        "plt.plot([0,x],[0,y],'r')\n",
        "plt.plot([0,x],[0,0],'r')\n",
        "plt.plot([x,x],[0,y],'r')\n",
        "plt.plot([x],[y],'ro')\n",
        "\n",
        "ax.text(0.2,-0.1,'x')\n",
        "ax.text(0.6,0.4,'y')\n",
        "ax.text(0.1,0.6,'r=1')\n",
        "ax.text(x+0.1,y+0.1, '(x,y)')\n",
        "\n",
        "plt.show()\n"
      ],
      "metadata": {
        "colab": {
          "base_uri": "https://localhost:8080/",
          "height": 435
        },
        "id": "MQ2TxQC9QxJc",
        "outputId": "19af36f0-3f45-4f73-cb46-bfdd2994cfb5"
      },
      "execution_count": null,
      "outputs": [
        {
          "output_type": "display_data",
          "data": {
            "text/plain": [
              "<Figure size 640x480 with 1 Axes>"
            ],
            "image/png": "[encoded data removed]"
          },
          "metadata": {}
        }
      ]
    },
    {
      "cell_type": "markdown",
      "source": [
        "#Animated unit circle"
      ],
      "metadata": {
        "id": "tzKVdWjhS9px"
      }
    },
    {
      "cell_type": "code",
      "source": [
        "import matplotlib.pyplot as plt\n",
        "from IPython import display\n",
        "import math\n",
        "import time\n",
        "\n",
        "\n",
        "# the triangles\n",
        "for a in range(70):\n",
        "    time.sleep(0.3)\n",
        "    display.clear_output(wait=True)\n",
        "    fig, ax = plt.subplots()\n",
        "    circle = plt.Circle((0,0), 1, fill = False )\n",
        "    ax.set_aspect('equal')\n",
        "    ax.add_artist(circle)\n",
        "    plt.axis([-1.5,1.5,-1.5,1.5])\n",
        "    plt.plot([-2,2],[0,0],'b')\n",
        "    plt.plot([0,0],[-2,2],'b')\n",
        "\n",
        "    angle = -0.1*a + math.pi/2\n",
        "    x = math.cos(angle)\n",
        "    y = math.sin(angle)\n",
        "\n",
        "    #plt.plot([x],[y],'r')\n",
        "    plt.plot([0,x],[0,y],'r')\n",
        "    #plt.plot([0,x],[0,0],'r')\n",
        "    #plt.plot([x,x],[0,y],'r')\n",
        "\n",
        "    plt.show()"
      ],
      "metadata": {
        "id": "f6fu4pngS6RE"
      },
      "execution_count": null,
      "outputs": []
    },
    {
      "cell_type": "markdown",
      "source": [
        "#Pythagorean trig\n",
        "\n",
        "sin<sup>2</sup>(x) + cos<sup>2</sup>(x) = 1"
      ],
      "metadata": {
        "id": "-NdSfpkaQPvh"
      }
    },
    {
      "cell_type": "code",
      "source": [
        "import math\n",
        "\n",
        "for a in range(70):\n",
        "    angle = 0.1*a\n",
        "    y = math.sin(angle)**2\n",
        "    x = math.cos(angle)**2\n",
        "    r = x + y\n",
        "    print(x, \" + \", y, \" = \", r )\n"
      ],
      "metadata": {
        "id": "S5vODVDxQUEG"
      },
      "execution_count": null,
      "outputs": []
    },
    {
      "cell_type": "markdown",
      "source": [
        "#Radians and Degrees"
      ],
      "metadata": {
        "id": "Q_-99JckPLqj"
      }
    },
    {
      "cell_type": "markdown",
      "source": [
        "$\\frac{2π \\;radians}{360 \\;degrees}$ = $\\frac{radians}{degrees}$"
      ],
      "metadata": {
        "id": "iSkQSpggPThK"
      }
    },
    {
      "cell_type": "markdown",
      "source": [
        "Convert radians to degrees"
      ],
      "metadata": {
        "id": "dTn1erQ4Re2O"
      }
    },
    {
      "cell_type": "code",
      "source": [
        "# enter the radians, omitting pi\n",
        "r = 5/4\n",
        "d = r*180\n",
        "print(r, \"pi radians = \", d, \"degrees\")\n"
      ],
      "metadata": {
        "colab": {
          "base_uri": "https://localhost:8080/"
        },
        "id": "4OwtcaNLPQHq",
        "outputId": "f19780ef-06e7-41db-f916-95cf91c000cf"
      },
      "execution_count": null,
      "outputs": [
        {
          "output_type": "stream",
          "name": "stdout",
          "text": [
            "1.25 pi radians =  225.0 degrees\n"
          ]
        }
      ]
    },
    {
      "cell_type": "markdown",
      "source": [
        "Convert degrees to radians"
      ],
      "metadata": {
        "id": "niKmC7eZRrPl"
      }
    },
    {
      "cell_type": "code",
      "source": [
        "import math\n",
        "from fractions import Fraction\n",
        "\n",
        "d = 120\n",
        "r = math.radians(d)\n",
        "r2 = str(r/math.pi)\n",
        "r3 = Fraction(r2).limit_denominator()\n",
        "print(d, \"degrees = \", r3, \" pi radians\")\n"
      ],
      "metadata": {
        "colab": {
          "base_uri": "https://localhost:8080/"
        },
        "id": "WQKKQRS5Q3L0",
        "outputId": "270118fe-9534-4198-fea0-3f4cd9fee2e5"
      },
      "execution_count": null,
      "outputs": [
        {
          "output_type": "stream",
          "name": "stdout",
          "text": [
            "120 degrees =  2/3  pi radians\n"
          ]
        }
      ]
    },
    {
      "cell_type": "markdown",
      "source": [
        "#Graphing trig functions"
      ],
      "metadata": {
        "id": "Jkvki5poEBkS"
      }
    },
    {
      "cell_type": "code",
      "source": [
        "import matplotlib.pyplot as plt\n",
        "from IPython import display\n",
        "import math\n",
        "import time\n",
        "\n",
        "fig, ax = plt.subplots()\n",
        "plt.axis([-2,2,-2,2])\n",
        "ax.set_aspect('equal')\n",
        "\n",
        "for a in range(360):\n",
        "    x = math.cos(math.radians(a))\n",
        "    y = math.sin(math.radians(a))\n",
        "    plt.plot([x],[y],'ro')\n",
        "\n",
        "plt.show()\n"
      ],
      "metadata": {
        "colab": {
          "base_uri": "https://localhost:8080/",
          "height": 435
        },
        "id": "VA-xMf_TEECa",
        "outputId": "77dbffc3-049c-483e-a790-769ba67f0733"
      },
      "execution_count": null,
      "outputs": [
        {
          "output_type": "display_data",
          "data": {
            "text/plain": [
              "<Figure size 640x480 with 1 Axes>"
            ],
            "image/png": "[encoded data removed]"
          },
          "metadata": {}
        }
      ]
    },
    {
      "cell_type": "markdown",
      "source": [
        "#Graph of sine in degrees"
      ],
      "metadata": {
        "id": "xKFZpd6wF9B9"
      }
    },
    {
      "cell_type": "code",
      "source": [
        "import matplotlib.pyplot as plt\n",
        "from IPython import display\n",
        "import math\n",
        "\n",
        "\n",
        "fig, ax = plt.subplots()\n",
        "plt.axis([0,360,-2,2]) #\n",
        "for a in range(360):\n",
        "    x = a\n",
        "    y = math.sin(math.radians(a))\n",
        "    plt.plot([x],[y],'ro')\n",
        "\n",
        "plt.show()\n"
      ],
      "metadata": {
        "colab": {
          "base_uri": "https://localhost:8080/",
          "height": 435
        },
        "id": "aaUsMF9DEynk",
        "outputId": "cc404b8e-7863-4b0f-e7e0-79519fd1a222"
      },
      "execution_count": null,
      "outputs": [
        {
          "output_type": "display_data",
          "data": {
            "text/plain": [
              "<Figure size 640x480 with 1 Axes>"
            ],
            "image/png": "[encoded data removed]"
          },
          "metadata": {}
        }
      ]
    },
    {
      "cell_type": "markdown",
      "source": [
        "#Cirlce using radians"
      ],
      "metadata": {
        "id": "DqbvCQhIHaSZ"
      }
    },
    {
      "cell_type": "code",
      "source": [
        "import matplotlib.pyplot as plt\n",
        "from IPython import display\n",
        "import math\n",
        "\n",
        "fig, ax = plt.subplots()\n",
        "plt.axis([-2,2,-2,2])\n",
        "ax.set_aspect('equal')\n",
        "\n",
        "for a in range(70):\n",
        "    angle = 0.1*a\n",
        "    x = math.cos(angle)\n",
        "    y = math.sin(angle)\n",
        "    plt.plot([x],[y],'ro')\n",
        "\n",
        "plt.show()\n"
      ],
      "metadata": {
        "colab": {
          "base_uri": "https://localhost:8080/",
          "height": 435
        },
        "id": "FRnHWeGOHe4j",
        "outputId": "e1a0b342-21da-41f3-e6ff-f29cb47a5055"
      },
      "execution_count": null,
      "outputs": [
        {
          "output_type": "display_data",
          "data": {
            "text/plain": [
              "<Figure size 640x480 with 1 Axes>"
            ],
            "image/png": "[encoded data removed]"
          },
          "metadata": {}
        }
      ]
    },
    {
      "cell_type": "markdown",
      "source": [
        "#Graph of sine in radians"
      ],
      "metadata": {
        "id": "yRauc9IVIpLW"
      }
    },
    {
      "cell_type": "code",
      "source": [
        "import matplotlib.pyplot as plt\n",
        "from IPython import display\n",
        "import math\n",
        "\n",
        "fig, ax = plt.subplots()\n",
        "plt.axis([0,7,-2,2])\n",
        "for a in range(70):\n",
        "    angle = 0.1*a\n",
        "    x = angle\n",
        "    y = math.sin(angle)\n",
        "    plt.plot([x],[y],'ro')\n",
        "\n",
        "plt.show()\n"
      ],
      "metadata": {
        "colab": {
          "base_uri": "https://localhost:8080/",
          "height": 435
        },
        "id": "kO2pFC3iIreI",
        "outputId": "1884bc91-f1e9-4ad4-8faa-db31d1bdd0a5"
      },
      "execution_count": null,
      "outputs": [
        {
          "output_type": "display_data",
          "data": {
            "text/plain": [
              "<Figure size 640x480 with 1 Axes>"
            ],
            "image/png": "[encoded data removed]"
          },
          "metadata": {}
        }
      ]
    },
    {
      "cell_type": "markdown",
      "source": [
        "#Graph of sine using numpy"
      ],
      "metadata": {
        "id": "28r0zVgtScHV"
      }
    },
    {
      "cell_type": "code",
      "source": [
        "import matplotlib.pyplot as plt\n",
        "from IPython import display\n",
        "import numpy as np\n",
        "import math\n",
        "\n",
        "# Graph dimensions\n",
        "xmin = -2\n",
        "xmax = 7\n",
        "ymin = -2\n",
        "ymax = 2\n",
        "points = 10*(xmax-xmin)\n",
        "x = np.linspace(xmin, xmax, points)\n",
        "\n",
        "fig, ax = plt.subplots()\n",
        "plt.axis([xmin,xmax, ymin,ymax])\n",
        "plt.plot([xmin, xmax],[0,0],'b')\n",
        "plt.plot([0,0],[ymin, ymax],'b')\n",
        "\n",
        "#y = np.sin(x)\n",
        "y = np.cos(x)\n",
        "plt.plot(x,y,'r')\n",
        "\n",
        "plt.show()"
      ],
      "metadata": {
        "id": "U5WZlTM9SgX2",
        "colab": {
          "base_uri": "https://localhost:8080/",
          "height": 435
        },
        "outputId": "f02cdf3c-c218-48a8-8839-eb457e9127b8"
      },
      "execution_count": null,
      "outputs": [
        {
          "output_type": "display_data",
          "data": {
            "text/plain": [
              "<Figure size 640x480 with 1 Axes>"
            ],
            "image/png": "[encoded data removed]"
          },
          "metadata": {}
        }
      ]
    },
    {
      "cell_type": "markdown",
      "source": [
        "#Graph of tangent and more"
      ],
      "metadata": {
        "id": "QcZE5XhmF3Jh"
      }
    },
    {
      "cell_type": "code",
      "source": [
        "import matplotlib.pyplot as plt\n",
        "from IPython import display\n",
        "import numpy as np\n",
        "import math\n",
        "\n",
        "# Graph dimensions\n",
        "xmin = -2\n",
        "xmax = 14\n",
        "ymin = -2\n",
        "ymax = 2\n",
        "points = 5*(xmax-xmin)\n",
        "x = np.linspace(xmin, xmax, points)\n",
        "\n",
        "fig, ax = plt.subplots()\n",
        "plt.axis([xmin,xmax, ymin,ymax])\n",
        "plt.plot([xmin, xmax],[0,0],'b')\n",
        "plt.plot([0,0],[ymin, ymax],'b')\n",
        "\n",
        "# Tangent\n",
        "#y = np.tan(x)\n",
        "#y[:-1][np.diff(y) < 0] = np.nan\n",
        "\n",
        "# Coangent\n",
        "#y = 1/np.tan(x)\n",
        "#y[:-1][np.diff(y) > 0] = np.nan\n",
        "\n",
        "# Secant and Cosine\n",
        "#y = 1/np.cos(x)\n",
        "#y[:-1][np.diff(y) > 2] = np.nan\n",
        "#y2 = np.cos(x)\n",
        "\n",
        "# Cosecant and Sine\n",
        "y = 1/np.sin(x)\n",
        "y[:-1][np.diff(y) > 2] = np.nan\n",
        "y2 = np.sin(x)\n",
        "\n",
        "\n",
        "plt.plot(x,y,'r')\n",
        "plt.plot(x,y2,'g')\n",
        "plt.show()\n",
        "\n"
      ],
      "metadata": {
        "colab": {
          "base_uri": "https://localhost:8080/",
          "height": 435
        },
        "id": "pu0AgjjwFe_Z",
        "outputId": "a0bc6e9d-1315-40b9-f5ef-1bdeb234514e"
      },
      "execution_count": null,
      "outputs": [
        {
          "output_type": "display_data",
          "data": {
            "text/plain": [
              "<Figure size 640x480 with 1 Axes>"
            ],
            "image/png": "[encoded data removed]"
          },
          "metadata": {}
        }
      ]
    },
    {
      "cell_type": "markdown",
      "source": [
        "#Sine wave transformations"
      ],
      "metadata": {
        "id": "EnPEsYLVL38n"
      }
    },
    {
      "cell_type": "code",
      "source": [
        "import matplotlib.pyplot as plt\n",
        "from IPython import display\n",
        "import numpy as np\n",
        "import math\n",
        "%matplotlib inline\n",
        "from ipywidgets import interactive\n",
        "\n",
        "# Graph dimensions\n",
        "xmin = -2\n",
        "xmax = 14\n",
        "ymin = -5\n",
        "ymax = 5\n",
        "points = 10*(xmax-xmin)\n",
        "x = np.linspace(xmin, xmax, points)\n",
        "\n",
        "def graph(a,b,c):\n",
        "    fig, ax = plt.subplots()\n",
        "    eq = 'sin('\n",
        "    eq2 = 'x) + '\n",
        "    plt.title(f'{a}{eq}{b}{eq2}{c}')\n",
        "    plt.axis([xmin,xmax, ymin,ymax])\n",
        "    plt.plot([xmin, xmax],[0,0],'b')\n",
        "    plt.plot([0,0],[ymin, ymax],'b')\n",
        "    y = a*np.sin(b*x)+c\n",
        "    plt.plot(x,y,'r')\n",
        "    plt.show()\n",
        "\n",
        "ig = interactive(graph, a=(-5,5), b=(-5,5), c=(-5,5))\n",
        "ig\n"
      ],
      "metadata": {
        "colab": {
          "base_uri": "https://localhost:8080/",
          "height": 548,
          "referenced_widgets": [
            "8ba1297a170147cbb7af2d1c703712e1",
            "ee7276e31f554bd483cd3ccb2419d76d",
            "01904ea207b94a53916fadc383814551",
            "603240af442443f88a64302c9fc2bbd8",
            "72533f60c80b4b75817f53db3b401e45",
            "bc8f8da653bd42469278ff5b6ff2bf12",
            "9718d653e08e479693bf0157fe8015ee",
            "9e79b4c086154d2e9a66833c96758c0a",
            "838152cd134c462291597a569fe7db31",
            "9ee24eb26fb44d75b85f9b1d63392222",
            "e19fad17c06144078e17b5d0024a68e7",
            "dc18987b470c46deb9d9bb1fdbb740d0",
            "b0f7cbcc4a6b4423a15128d51a05a1b8"
          ]
        },
        "id": "rFNdIOMTMAb1",
        "outputId": "247f3781-26ec-4708-eeff-42c1b7729541"
      },
      "execution_count": null,
      "outputs": [
        {
          "output_type": "display_data",
          "data": {
            "text/plain": [
              "interactive(children=(IntSlider(value=0, description='a', max=5, min=-5), IntSlider(value=0, description='b', …"
            ],
            "application/vnd.jupyter.widget-view+json": {
              "version_major": 2,
              "version_minor": 0,
              "model_id": "8ba1297a170147cbb7af2d1c703712e1"
            }
          },
          "metadata": {}
        }
      ]
    },
    {
      "cell_type": "markdown",
      "source": [
        "#Interacting sine waves\n",
        "Notice the patterns when you add two sine functions (\"additive interference\")"
      ],
      "metadata": {
        "id": "hbVMXbOHP1GS"
      }
    },
    {
      "cell_type": "code",
      "source": [
        "import matplotlib.pyplot as plt\n",
        "from IPython import display\n",
        "import numpy as np\n",
        "import math\n",
        "\n",
        "# Graph dimensions\n",
        "xmin = -2\n",
        "xmax = 14\n",
        "ymin = -2\n",
        "ymax = 2\n",
        "points = 10*(xmax-xmin)\n",
        "x = np.linspace(xmin, xmax, points)\n",
        "\n",
        "fig, ax = plt.subplots()\n",
        "plt.axis([xmin,xmax, ymin,ymax])\n",
        "plt.plot([xmin, xmax],[0,0],'k')\n",
        "plt.plot([0,0],[ymin, ymax],'k')\n",
        "\n",
        "# change these\n",
        "y1 = np.sin(200*x)\n",
        "y2 = np.sin(300*x)\n",
        "y3 = y1 + y2\n",
        "\n",
        "plt.plot(x,y1,'b')\n",
        "plt.plot(x,y2,'g')\n",
        "plt.plot(x,y3,'r')\n",
        "plt.show()"
      ],
      "metadata": {
        "id": "9skXZBJoQFzU",
        "colab": {
          "base_uri": "https://localhost:8080/",
          "height": 435
        },
        "outputId": "2273ffb7-ce99-46c9-9797-84fd58f1e63e"
      },
      "execution_count": null,
      "outputs": [
        {
          "output_type": "display_data",
          "data": {
            "text/plain": [
              "<Figure size 640x480 with 1 Axes>"
            ],
            "image/png": "[encoded data removed]"
          },
          "metadata": {}
        }
      ]
    },
    {
      "cell_type": "markdown",
      "source": [
        "#Tides and sine waves"
      ],
      "metadata": {
        "id": "p3GpQCNL5BYN"
      }
    },
    {
      "cell_type": "markdown",
      "source": [
        "Part 1 - get the data"
      ],
      "metadata": {
        "id": "FLrPj5qVEhM0"
      }
    },
    {
      "cell_type": "code",
      "source": [
        "import pandas as pd\n",
        "import numpy as np\n",
        "from scipy.optimize import curve_fit\n",
        "import matplotlib.pyplot as plt\n",
        "from google.colab import files\n",
        "import io\n",
        "\n",
        "# dialog to upload from computer:\n",
        "uploaded = files.upload()\n",
        "file_name = next(iter(uploaded))\n",
        "all_data = pd.read_csv(io.BytesIO(uploaded[file_name]))\n",
        "tide_data = all_data\n",
        "\n",
        "# API for tides:\n",
        "# https://api.tidesandcurrents.noaa.gov/api/prod/\n",
        "\n",
        "print(tide_data.describe())\n",
        "tide_data.head()\n"
      ],
      "metadata": {
        "id": "T_7FOM8t5FVd",
        "colab": {
          "base_uri": "https://localhost:8080/",
          "height": 422
        },
        "outputId": "bd63f873-48e6-49eb-81c0-5fa26cb21ce0"
      },
      "execution_count": null,
      "outputs": [
        {
          "output_type": "display_data",
          "data": {
            "text/plain": [
              "<IPython.core.display.HTML object>"
            ],
            "text/html": [
              "\n",
              "     <input type=\"file\" id=\"files-33600f4c-7cc3-41a8-b47a-ce008c6adda0\" name=\"files[]\" multiple disabled\n",
              "        style=\"border:none\" />\n",
              "     <output id=\"result-33600f4c-7cc3-41a8-b47a-ce008c6adda0\">\n",
              "      Upload widget is only available when the cell has been executed in the\n",
              "      current browser session. Please rerun this cell to enable.\n",
              "      </output>\n",
              "      <script>// Copyright 2017 Google LLC\n",
              "//\n",
              "// Licensed under the Apache License, Version 2.0 (the \"License\");\n",
              "// you may not use this file except in compliance with the License.\n",
              "// You may obtain a copy of the License at\n",
              "//\n",
              "//      http://www.apache.org/licenses/LICENSE-2.0\n",
              "//\n",
              "// Unless required by applicable law or agreed to in writing, software\n",
              "// distributed under the License is distributed on an \"AS IS\" BASIS,\n",
              "// WITHOUT WARRANTIES OR CONDITIONS OF ANY KIND, either express or implied.\n",
              "// See the License for the specific language governing permissions and\n",
              "// limitations under the License.\n",
              "\n",
              "/**\n",
              " * @fileoverview Helpers for google.colab Python module.\n",
              " */\n",
              "(function(scope) {\n",
              "function span(text, styleAttributes = {}) {\n",
              "  const element = document.createElement('span');\n",
              "  element.textContent = text;\n",
              "  for (const key of Object.keys(styleAttributes)) {\n",
              "    element.style[key] = styleAttributes[key];\n",
              "  }\n",
              "  return element;\n",
              "}\n",
              "\n",
              "// Max number of bytes which will be uploaded at a time.\n",
              "const MAX_PAYLOAD_SIZE = 100 * 1024;\n",
              "\n",
              "function _uploadFiles(inputId, outputId) {\n",
              "  const steps = uploadFilesStep(inputId, outputId);\n",
              "  const outputElement = document.getElementById(outputId);\n",
              "  // Cache steps on the outputElement to make it available for the next call\n",
              "  // to uploadFilesContinue from Python.\n",
              "  outputElement.steps = steps;\n",
              "\n",
              "  return _uploadFilesContinue(outputId);\n",
              "}\n",
              "\n",
              "// This is roughly an async generator (not supported in the browser yet),\n",
              "// where there are multiple asynchronous steps and the Python side is going\n",
              "// to poll for completion of each step.\n",
              "// This uses a Promise to block the python side on completion of each step,\n",
              "// then passes the result of the previous step as the input to the next step.\n",
              "function _uploadFilesContinue(outputId) {\n",
              "  const outputElement = document.getElementById(outputId);\n",
              "  const steps = outputElement.steps;\n",
              "\n",
              "  const next = steps.next(outputElement.lastPromiseValue);\n",
              "  return Promise.resolve(next.value.promise).then((value) => {\n",
              "    // Cache the last promise value to make it available to the next\n",
              "    // step of the generator.\n",
              "    outputElement.lastPromiseValue = value;\n",
              "    return next.value.response;\n",
              "  });\n",
              "}\n",
              "\n",
              "/**\n",
              " * Generator function which is called between each async step of the upload\n",
              " * process.\n",
              " * @param {string} inputId Element ID of the input file picker element.\n",
              " * @param {string} outputId Element ID of the output display.\n",
              " * @return {!Iterable<!Object>} Iterable of next steps.\n",
              " */\n",
              "function* uploadFilesStep(inputId, outputId) {\n",
              "  const inputElement = document.getElementById(inputId);\n",
              "  inputElement.disabled = false;\n",
              "\n",
              "  const outputElement = document.getElementById(outputId);\n",
              "  outputElement.innerHTML = '';\n",
              "\n",
              "  const pickedPromise = new Promise((resolve) => {\n",
              "    inputElement.addEventListener('change', (e) => {\n",
              "      resolve(e.target.files);\n",
              "    });\n",
              "  });\n",
              "\n",
              "  const cancel = document.createElement('button');\n",
              "  inputElement.parentElement.appendChild(cancel);\n",
              "  cancel.textContent = 'Cancel upload';\n",
              "  const cancelPromise = new Promise((resolve) => {\n",
              "    cancel.onclick = () => {\n",
              "      resolve(null);\n",
              "    };\n",
              "  });\n",
              "\n",
              "  // Wait for the user to pick the files.\n",
              "  const files = yield {\n",
              "    promise: Promise.race([pickedPromise, cancelPromise]),\n",
              "    response: {\n",
              "      action: 'starting',\n",
              "    }\n",
              "  };\n",
              "\n",
              "  cancel.remove();\n",
              "\n",
              "  // Disable the input element since further picks are not allowed.\n",
              "  inputElement.disabled = true;\n",
              "\n",
              "  if (!files) {\n",
              "    return {\n",
              "      response: {\n",
              "        action: 'complete',\n",
              "      }\n",
              "    };\n",
              "  }\n",
              "\n",
              "  for (const file of files) {\n",
              "    const li = document.createElement('li');\n",
              "    li.append(span(file.name, {fontWeight: 'bold'}));\n",
              "    li.append(span(\n",
              "        `(${file.type || 'n/a'}) - ${file.size} bytes, ` +\n",
              "        `last modified: ${\n",
              "            file.lastModifiedDate ? file.lastModifiedDate.toLocaleDateString() :\n",
              "                                    'n/a'} - `));\n",
              "    const percent = span('0% done');\n",
              "    li.appendChild(percent);\n",
              "\n",
              "    outputElement.appendChild(li);\n",
              "\n",
              "    const fileDataPromise = new Promise((resolve) => {\n",
              "      const reader = new FileReader();\n",
              "      reader.onload = (e) => {\n",
              "        resolve(e.target.result);\n",
              "      };\n",
              "      reader.readAsArrayBuffer(file);\n",
              "    });\n",
              "    // Wait for the data to be ready.\n",
              "    let fileData = yield {\n",
              "      promise: fileDataPromise,\n",
              "      response: {\n",
              "        action: 'continue',\n",
              "      }\n",
              "    };\n",
              "\n",
              "    // Use a chunked sending to avoid message size limits. See b/62115660.\n",
              "    let position = 0;\n",
              "    do {\n",
              "      const length = Math.min(fileData.byteLength - position, MAX_PAYLOAD_SIZE);\n",
              "      const chunk = new Uint8Array(fileData, position, length);\n",
              "      position += length;\n",
              "\n",
              "      const base64 = btoa(String.fromCharCode.apply(null, chunk));\n",
              "      yield {\n",
              "        response: {\n",
              "          action: 'append',\n",
              "          file: file.name,\n",
              "          data: base64,\n",
              "        },\n",
              "      };\n",
              "\n",
              "      let percentDone = fileData.byteLength === 0 ?\n",
              "          100 :\n",
              "          Math.round((position / fileData.byteLength) * 100);\n",
              "      percent.textContent = `${percentDone}% done`;\n",
              "\n",
              "    } while (position < fileData.byteLength);\n",
              "  }\n",
              "\n",
              "  // All done.\n",
              "  yield {\n",
              "    response: {\n",
              "      action: 'complete',\n",
              "    }\n",
              "  };\n",
              "}\n",
              "\n",
              "scope.google = scope.google || {};\n",
              "scope.google.colab = scope.google.colab || {};\n",
              "scope.google.colab._files = {\n",
              "  _uploadFiles,\n",
              "  _uploadFilesContinue,\n",
              "};\n",
              "})(self);\n",
              "</script> "
            ]
          },
          "metadata": {}
        },
        {
          "output_type": "stream",
          "name": "stdout",
          "text": [
            "Saving CO-OPS__9414290__wl.csv to CO-OPS__9414290__wl (3).csv\n",
            "        Water Level       Sigma   O or I (for verified)      F      R      L\n",
            "count    169.000000  169.000000              169.000000  169.0  169.0  169.0\n",
            "mean       4.101136    0.107166                0.118343    0.0    0.0    0.0\n",
            "std        1.535794    0.024129                0.323974    0.0    0.0    0.0\n",
            "min        0.103000    0.059000                0.000000    0.0    0.0    0.0\n",
            "25%        3.591000    0.092000                0.000000    0.0    0.0    0.0\n",
            "50%        4.398000    0.105000                0.000000    0.0    0.0    0.0\n",
            "75%        5.283000    0.121000                0.000000    0.0    0.0    0.0\n",
            "max        5.910000    0.203000                1.000000    0.0    0.0    0.0\n"
          ]
        },
        {
          "output_type": "execute_result",
          "data": {
            "text/plain": [
              "          Date Time   Water Level   Sigma   O or I (for verified)   F   R   L  \\\n",
              "0  2023-06-09 00:00         5.323   0.161                       0   0   0   0   \n",
              "1  2023-06-09 00:06         5.333   0.121                       1   0   0   0   \n",
              "2  2023-06-09 00:12         5.339   0.203                       0   0   0   0   \n",
              "3  2023-06-09 00:18         5.329   0.154                       0   0   0   0   \n",
              "4  2023-06-09 00:24         5.346   0.105                       0   0   0   0   \n",
              "\n",
              "   Quality   \n",
              "0         p  \n",
              "1         p  \n",
              "2         p  \n",
              "3         p  \n",
              "4         p  "
            ],
            "text/html": [
              "\n",
              "  <div id=\"df-b8849aea-2a7d-41c5-944a-b0c267aa1732\" class=\"colab-df-container\">\n",
              "    <div>\n",
              "<style scoped>\n",
              "    .dataframe tbody tr th:only-of-type {\n",
              "        vertical-align: middle;\n",
              "    }\n",
              "\n",
              "    .dataframe tbody tr th {\n",
              "        vertical-align: top;\n",
              "    }\n",
              "\n",
              "    .dataframe thead th {\n",
              "        text-align: right;\n",
              "    }\n",
              "</style>\n",
              "<table border=\"1\" class=\"dataframe\">\n",
              "  <thead>\n",
              "    <tr style=\"text-align: right;\">\n",
              "      <th></th>\n",
              "      <th>Date Time</th>\n",
              "      <th>Water Level</th>\n",
              "      <th>Sigma</th>\n",
              "      <th>O or I (for verified)</th>\n",
              "      <th>F</th>\n",
              "      <th>R</th>\n",
              "      <th>L</th>\n",
              "      <th>Quality</th>\n",
              "    </tr>\n",
              "  </thead>\n",
              "  <tbody>\n",
              "    <tr>\n",
              "      <th>0</th>\n",
              "      <td>2023-06-09 00:00</td>\n",
              "      <td>5.323</td>\n",
              "      <td>0.161</td>\n",
              "      <td>0</td>\n",
              "      <td>0</td>\n",
              "      <td>0</td>\n",
              "      <td>0</td>\n",
              "      <td>p</td>\n",
              "    </tr>\n",
              "    <tr>\n",
              "      <th>1</th>\n",
              "      <td>2023-06-09 00:06</td>\n",
              "      <td>5.333</td>\n",
              "      <td>0.121</td>\n",
              "      <td>1</td>\n",
              "      <td>0</td>\n",
              "      <td>0</td>\n",
              "      <td>0</td>\n",
              "      <td>p</td>\n",
              "    </tr>\n",
              "    <tr>\n",
              "      <th>2</th>\n",
              "      <td>2023-06-09 00:12</td>\n",
              "      <td>5.339</td>\n",
              "      <td>0.203</td>\n",
              "      <td>0</td>\n",
              "      <td>0</td>\n",
              "      <td>0</td>\n",
              "      <td>0</td>\n",
              "      <td>p</td>\n",
              "    </tr>\n",
              "    <tr>\n",
              "      <th>3</th>\n",
              "      <td>2023-06-09 00:18</td>\n",
              "      <td>5.329</td>\n",
              "      <td>0.154</td>\n",
              "      <td>0</td>\n",
              "      <td>0</td>\n",
              "      <td>0</td>\n",
              "      <td>0</td>\n",
              "      <td>p</td>\n",
              "    </tr>\n",
              "    <tr>\n",
              "      <th>4</th>\n",
              "      <td>2023-06-09 00:24</td>\n",
              "      <td>5.346</td>\n",
              "      <td>0.105</td>\n",
              "      <td>0</td>\n",
              "      <td>0</td>\n",
              "      <td>0</td>\n",
              "      <td>0</td>\n",
              "      <td>p</td>\n",
              "    </tr>\n",
              "  </tbody>\n",
              "</table>\n",
              "</div>\n",
              "    <div class=\"colab-df-buttons\">\n",
              "\n",
              "  <div class=\"colab-df-container\">\n",
              "    <button class=\"colab-df-convert\" onclick=\"convertToInteractive('df-b8849aea-2a7d-41c5-944a-b0c267aa1732')\"\n",
              "            title=\"Convert this dataframe to an interactive table.\"\n",
              "            style=\"display:none;\">\n",
              "\n",
              "  <svg xmlns=\"http://www.w3.org/2000/svg\" height=\"24px\" viewBox=\"0 -960 960 960\">\n",
              "    <path d=\"M120-120v-720h720v720H120Zm60-500h600v-160H180v160Zm220 220h160v-160H400v160Zm0 220h160v-160H400v160ZM180-400h160v-160H180v160Zm440 0h160v-160H620v160ZM180-180h160v-160H180v160Zm440 0h160v-160H620v160Z\"/>\n",
              "  </svg>\n",
              "    </button>\n",
              "\n",
              "  <style>\n",
              "    .colab-df-container {\n",
              "      display:flex;\n",
              "      gap: 12px;\n",
              "    }\n",
              "\n",
              "    .colab-df-convert {\n",
              "      background-color: #E8F0FE;\n",
              "      border: none;\n",
              "      border-radius: 50%;\n",
              "      cursor: pointer;\n",
              "      display: none;\n",
              "      fill: #1967D2;\n",
              "      height: 32px;\n",
              "      padding: 0 0 0 0;\n",
              "      width: 32px;\n",
              "    }\n",
              "\n",
              "    .colab-df-convert:hover {\n",
              "      background-color: #E2EBFA;\n",
              "      box-shadow: 0px 1px 2px rgba(60, 64, 67, 0.3), 0px 1px 3px 1px rgba(60, 64, 67, 0.15);\n",
              "      fill: #174EA6;\n",
              "    }\n",
              "\n",
              "    .colab-df-buttons div {\n",
              "      margin-bottom: 4px;\n",
              "    }\n",
              "\n",
              "    [theme=dark] .colab-df-convert {\n",
              "      background-color: #3B4455;\n",
              "      fill: #D2E3FC;\n",
              "    }\n",
              "\n",
              "    [theme=dark] .colab-df-convert:hover {\n",
              "      background-color: #434B5C;\n",
              "      box-shadow: 0px 1px 3px 1px rgba(0, 0, 0, 0.15);\n",
              "      filter: drop-shadow(0px 1px 2px rgba(0, 0, 0, 0.3));\n",
              "      fill: #FFFFFF;\n",
              "    }\n",
              "  </style>\n",
              "\n",
              "    <script>\n",
              "      const buttonEl =\n",
              "        document.querySelector('#df-b8849aea-2a7d-41c5-944a-b0c267aa1732 button.colab-df-convert');\n",
              "      buttonEl.style.display =\n",
              "        google.colab.kernel.accessAllowed ? 'block' : 'none';\n",
              "\n",
              "      async function convertToInteractive(key) {\n",
              "        const element = document.querySelector('#df-b8849aea-2a7d-41c5-944a-b0c267aa1732');\n",
              "        const dataTable =\n",
              "          await google.colab.kernel.invokeFunction('convertToInteractive',\n",
              "                                                    [key], {});\n",
              "        if (!dataTable) return;\n",
              "\n",
              "        const docLinkHtml = 'Like what you see? Visit the ' +\n",
              "          '<a target=\"_blank\" href=https://colab.research.google.com/notebooks/data_table.ipynb>data table notebook</a>'\n",
              "          + ' to learn more about interactive tables.';\n",
              "        element.innerHTML = '';\n",
              "        dataTable['output_type'] = 'display_data';\n",
              "        await google.colab.output.renderOutput(dataTable, element);\n",
              "        const docLink = document.createElement('div');\n",
              "        docLink.innerHTML = docLinkHtml;\n",
              "        element.appendChild(docLink);\n",
              "      }\n",
              "    </script>\n",
              "  </div>\n",
              "\n",
              "\n",
              "<div id=\"df-0859de73-add9-48af-b443-11b3fd92ac21\">\n",
              "  <button class=\"colab-df-quickchart\" onclick=\"quickchart('df-0859de73-add9-48af-b443-11b3fd92ac21')\"\n",
              "            title=\"Suggest charts.\"\n",
              "            style=\"display:none;\">\n",
              "\n",
              "<svg xmlns=\"http://www.w3.org/2000/svg\" height=\"24px\"viewBox=\"0 0 24 24\"\n",
              "     width=\"24px\">\n",
              "    <g>\n",
              "        <path d=\"M19 3H5c-1.1 0-2 .9-2 2v14c0 1.1.9 2 2 2h14c1.1 0 2-.9 2-2V5c0-1.1-.9-2-2-2zM9 17H7v-7h2v7zm4 0h-2V7h2v10zm4 0h-2v-4h2v4z\"/>\n",
              "    </g>\n",
              "</svg>\n",
              "  </button>\n",
              "\n",
              "<style>\n",
              "  .colab-df-quickchart {\n",
              "    background-color: #E8F0FE;\n",
              "    border: none;\n",
              "    border-radius: 50%;\n",
              "    cursor: pointer;\n",
              "    display: none;\n",
              "    fill: #1967D2;\n",
              "    height: 32px;\n",
              "    padding: 0 0 0 0;\n",
              "    width: 32px;\n",
              "  }\n",
              "\n",
              "  .colab-df-quickchart:hover {\n",
              "    background-color: #E2EBFA;\n",
              "    box-shadow: 0px 1px 2px rgba(60, 64, 67, 0.3), 0px 1px 3px 1px rgba(60, 64, 67, 0.15);\n",
              "    fill: #174EA6;\n",
              "  }\n",
              "\n",
              "  [theme=dark] .colab-df-quickchart {\n",
              "    background-color: #3B4455;\n",
              "    fill: #D2E3FC;\n",
              "  }\n",
              "\n",
              "  [theme=dark] .colab-df-quickchart:hover {\n",
              "    background-color: #434B5C;\n",
              "    box-shadow: 0px 1px 3px 1px rgba(0, 0, 0, 0.15);\n",
              "    filter: drop-shadow(0px 1px 2px rgba(0, 0, 0, 0.3));\n",
              "    fill: #FFFFFF;\n",
              "  }\n",
              "</style>\n",
              "\n",
              "  <script>\n",
              "    async function quickchart(key) {\n",
              "      const charts = await google.colab.kernel.invokeFunction(\n",
              "          'suggestCharts', [key], {});\n",
              "    }\n",
              "    (() => {\n",
              "      let quickchartButtonEl =\n",
              "        document.querySelector('#df-0859de73-add9-48af-b443-11b3fd92ac21 button');\n",
              "      quickchartButtonEl.style.display =\n",
              "        google.colab.kernel.accessAllowed ? 'block' : 'none';\n",
              "    })();\n",
              "  </script>\n",
              "</div>\n",
              "    </div>\n",
              "  </div>\n"
            ]
          },
          "metadata": {},
          "execution_count": 20
        }
      ]
    },
    {
      "cell_type": "markdown",
      "source": [
        "Part 2 - continuing the above code (ChatGPT generated this part)"
      ],
      "metadata": {
        "id": "U4i2grHgLdHx"
      }
    },
    {
      "cell_type": "code",
      "source": [
        "tide_data = all_data.head(100)\n",
        "\n",
        "# ChatGPT generated this code, but I had to modify it\n",
        "\n",
        "# Extract necessary columns\n",
        "time = pd.to_datetime(tide_data['Date Time'])\n",
        "height = tide_data[' Water Level']\n",
        "\n",
        "# Convert time to days since the first measurement\n",
        "time = (time - time.min()).dt.total_seconds() / (24 * 3600)\n",
        "\n",
        "# Define the sinusoidal function\n",
        "def sinusoidal_func(x, a, b, c, d):\n",
        "    return a * np.sin(b * (x - c)) + d\n",
        "\n",
        "# Fit the data to the sinusoidal function\n",
        "params, _ = curve_fit(sinusoidal_func, time, height)\n",
        "\n",
        "# Generate predictions using the fitted parameters\n",
        "predictions = sinusoidal_func(time, *params)\n",
        "\n",
        "# Plot the original data and the predicted values\n",
        "plt.plot(time, height, label='Actual Tide Height')\n",
        "plt.plot(time, predictions, label='Predicted Tide Height')\n",
        "plt.xlabel('Days')\n",
        "plt.ylabel('Tide Height (m)')\n",
        "plt.title('Tide Height Prediction in Cape May, NJ')\n",
        "plt.legend()\n",
        "plt.show()\n"
      ],
      "metadata": {
        "colab": {
          "base_uri": "https://localhost:8080/",
          "height": 472
        },
        "id": "kL43fTKYLf0m",
        "outputId": "54e6f911-92da-4547-fdb5-6b1d9dbc54ff"
      },
      "execution_count": null,
      "outputs": [
        {
          "output_type": "display_data",
          "data": {
            "text/plain": [
              "<Figure size 640x480 with 1 Axes>"
            ],
            "image/png": "[encoded data removed]"
          },
          "metadata": {}
        }
      ]
    },
    {
      "cell_type": "markdown",
      "source": [
        "Part 3 - More analysis to get a better graph"
      ],
      "metadata": {
        "id": "_u-_crf2NRyb"
      }
    },
    {
      "cell_type": "code",
      "source": [
        "import math\n",
        "from ipywidgets import interactive\n",
        "\n",
        "# my code again\n",
        "\n",
        "time_mins = time*1440\n",
        "mid_y = 0.8\n",
        "max_y = []\n",
        "min_y = []\n",
        "minute_count = 0\n",
        "max_count = 0\n",
        "\n",
        "for mm in height:\n",
        "    if mm>mid_y:\n",
        "        max_y.append(mm)\n",
        "        max_count = max_count+1\n",
        "\n",
        "    if mm<mid_y:\n",
        "        min_y.append(mm)\n",
        "\n",
        "    minute_count = minute_count+1\n",
        "\n",
        "# average amplitude values\n",
        "max_av = np.mean(max_y)\n",
        "min_av = np.mean(min_y)\n",
        "amp = max_av - min_av\n",
        "\n",
        "# average period values\n",
        "period = float(minute_count)/float(max_count)\n",
        "p2 = 0.009\n",
        "p3 = 2*math.pi/period\n",
        "print(period)\n",
        "print(amp)\n",
        "#y_predicted = amp*np.sin((p2*time_mins+900))+1\n",
        "\n",
        "def p_tides(a,b):\n",
        "    y_pred = a*np.sin(b*time_mins + 900) + 1\n",
        "\n",
        "    # Plot the original data and the predicted values\n",
        "    plt.plot(time_mins, height, label='Actual Tide Height')\n",
        "    plt.plot(time_mins, y_pred, label='Predicted Tide Height')\n",
        "    plt.xlabel('Minutes')\n",
        "    plt.ylabel('Tide Height (m)')\n",
        "    plt.title('Tide Height Prediction in Cape May, NJ')\n",
        "    plt.legend()\n",
        "    plt.show()\n",
        "\n",
        "int_graph = interactive(p_tides, a =(0.5,0.9,0.1), b=(0.00,0.01,0.001))\n",
        "int_graph\n"
      ],
      "metadata": {
        "colab": {
          "base_uri": "https://localhost:8080/",
          "height": 662,
          "referenced_widgets": [
            "c6e2fe51b05e47cfa529325b36302f16",
            "71a58d75186241cb8e244a57a70ed4eb",
            "182dd1a0b54a4c56a80688948f670d43",
            "b817409dba1141208fa69d137738ada8",
            "e1e66e96e6b74e60b05155b7463e7bd9",
            "0345eb4b9a904b7fa9dbc4f2dd5fcdc8",
            "a542101448504504844b1cc83b267f19",
            "366e3c64e0af45c8b18acbae1fcb710e",
            "851011d4ecb647c6a1824ddbfa878321",
            "5ca6866bc8514f31b8421345b2f2fa7e"
          ]
        },
        "id": "vmZoCJiiNYep",
        "outputId": "ce7b1a3c-4d14-4c8c-e51c-3474c1dadc10"
      },
      "execution_count": null,
      "outputs": [
        {
          "output_type": "stream",
          "name": "stdout",
          "text": [
            "1.0\n",
            "nan\n"
          ]
        },
        {
          "output_type": "stream",
          "name": "stderr",
          "text": [
            "/usr/local/lib/python3.10/dist-packages/numpy/core/fromnumeric.py:3432: RuntimeWarning: Mean of empty slice.\n",
            "  return _methods._mean(a, axis=axis, dtype=dtype,\n",
            "/usr/local/lib/python3.10/dist-packages/numpy/core/_methods.py:190: RuntimeWarning: invalid value encountered in double_scalars\n",
            "  ret = ret.dtype.type(ret / rcount)\n"
          ]
        },
        {
          "output_type": "display_data",
          "data": {
            "text/plain": [
              "interactive(children=(FloatSlider(value=0.6, description='a', max=0.9, min=0.5), FloatSlider(value=0.005, desc…"
            ],
            "application/vnd.jupyter.widget-view+json": {
              "version_major": 2,
              "version_minor": 0,
              "model_id": "c6e2fe51b05e47cfa529325b36302f16"
            }
          },
          "metadata": {}
        }
      ]
    },
    {
      "cell_type": "markdown",
      "source": [
        "Part 4 - using sliders to estimate the graph"
      ],
      "metadata": {
        "id": "hJwRpgx5ET70"
      }
    },
    {
      "cell_type": "code",
      "source": [
        "#%matplotlib inline\n",
        "#from ipywidgets import interactive\n",
        "#def estimate(a,b,c):\n",
        "import matplotlib.pyplot as plt\n",
        "\n",
        "a = 0.5\n",
        "b = 0.009\n",
        "c = 0.8\n",
        "\n",
        "#y_estimated = a*np.sin((b*time_mins+1500))+c\n",
        "y_predicted = a*np.sin((b*time_mins+1000))+c\n",
        "plt.plot(time_mins, height, label='Actual Tide Height')\n",
        "plt.plot(time_mins, y_predicted, label='Predicted Tide Height')\n",
        "plt.xlabel('Minutes')\n",
        "plt.ylabel('Tide Height (m)')\n",
        "plt.title('Tide Height Prediction in Cape May, NJ')\n",
        "plt.legend()\n",
        "plt.show()\n",
        "\n",
        "ip = interactive(estimate, a=(1,10), b=(1,10),c=(1,10))\n",
        "ip\n"
      ],
      "metadata": {
        "id": "4sSao-EoEbcE"
      },
      "execution_count": null,
      "outputs": []
    },
    {
      "cell_type": "markdown",
      "source": [
        "#Law of Sines"
      ],
      "metadata": {
        "id": "Nwn965PLZlAJ"
      }
    },
    {
      "cell_type": "markdown",
      "source": [
        "Each side is proportional to the sine of the angle across from it:<br>\n",
        "$\\frac{a}{sin(A)}=\\frac{b}{sin(B)}=\\frac{c}{sin(C)}$\n"
      ],
      "metadata": {
        "id": "JMPaQix-aZoF"
      }
    },
    {
      "cell_type": "markdown",
      "source": [
        "Unknown side - simple version"
      ],
      "metadata": {
        "id": "Yqhne2mU_-hF"
      }
    },
    {
      "cell_type": "code",
      "source": [
        "import math\n",
        "\n",
        "# known values\n",
        "angle_A =\n",
        "side_a =\n",
        "angle_B =\n",
        "\n",
        "# solve\n",
        "side_b = math.sin(math.radians(angle_B))*side_a/math.sin(math.radians(angle_A))\n",
        "print(\"side b = \", side_b)\n"
      ],
      "metadata": {
        "id": "sQIDIWq1AEQb"
      },
      "execution_count": null,
      "outputs": []
    },
    {
      "cell_type": "markdown",
      "source": [
        "Unknown angle - simple version"
      ],
      "metadata": {
        "id": "fn27SJQYAGHa"
      }
    },
    {
      "cell_type": "code",
      "source": [
        "import math\n",
        "\n",
        "# known values\n",
        "angle_A =\n",
        "side_a =\n",
        "side_b =\n",
        "\n",
        "b = side_b*math.sin(math.radians(angle_A))/side_a\n",
        "angle_B = math.degrees(math.asin(b))\n",
        "print(\"angle = \", angle_B)\n"
      ],
      "metadata": {
        "id": "6OFxb05FAJMa"
      },
      "execution_count": null,
      "outputs": []
    },
    {
      "cell_type": "markdown",
      "source": [
        "Either side or angle unknown, getting user input"
      ],
      "metadata": {
        "id": "ZfmWelaXAKgW"
      }
    },
    {
      "cell_type": "code",
      "source": [
        "import math\n",
        "\n",
        "# Prompt for known values\n",
        "print(\"First, the known ratio\")\n",
        "angleA = float(input(\"Known angle: \"))\n",
        "sideA = float(input(\"Side across: \"))\n",
        "print(\"If you don't know the value, put 'x' (no quotes or spaces)\")\n",
        "angleB = input(\"Other angle: \")\n",
        "sideB = input(\"Other side: \")\n",
        "\n",
        "# unknown angle\n",
        "if(angleB==\"x\"):\n",
        "    side_B = float(sideB)\n",
        "    ratioB = side_B*math.sin(math.radians(angleA))/sideA\n",
        "    radians_B = math.asin(ratioB)\n",
        "    angle_B = radians_B*180/math.pi\n",
        "    print(\"angle = \", angle_B)\n",
        "\n",
        "# unknown side\n",
        "if(sideB==\"x\"):\n",
        "    angle_B = float(angleB)\n",
        "    side_B = math.sin(math.radians(angle_B))*sideA/math.sin(math.radians(angleA))\n",
        "    print(\"side = \", side_B)\n",
        "\n"
      ],
      "metadata": {
        "id": "RukhcPdybKzY"
      },
      "execution_count": null,
      "outputs": []
    },
    {
      "cell_type": "markdown",
      "source": [
        "#Law of Cosines"
      ],
      "metadata": {
        "id": "XyWn8LVZeQXW"
      }
    },
    {
      "cell_type": "markdown",
      "source": [
        "Known sides are \"a\" and \"b\" and the known angle between them is \"C,\" then the formula is<br>\n",
        "c<sup>2</sup> = a<sup>2</sup> + b<sup>2</sup> - 2ab*cos(C)<br>\n"
      ],
      "metadata": {
        "id": "dShtSt6DeTj3"
      }
    },
    {
      "cell_type": "markdown",
      "source": [
        "Unknown side - simple version"
      ],
      "metadata": {
        "id": "-bn0RzyUDOmE"
      }
    },
    {
      "cell_type": "code",
      "source": [
        "import math\n",
        "\n",
        "# known values\n",
        "side_a =\n",
        "side_b =\n",
        "angle_C =\n",
        "\n",
        "# solve\n",
        "c = side_a**2 + side_b**2 - 2*side_a*side_b*math.cos(math.radians(angle_C))\n",
        "side_c = math.sqrt(c)\n",
        "print(\"side = \", side_c)\n"
      ],
      "metadata": {
        "id": "J0K6WcQgDSvY"
      },
      "execution_count": null,
      "outputs": []
    },
    {
      "cell_type": "markdown",
      "source": [
        "Unknown angle - simple version"
      ],
      "metadata": {
        "id": "M6b76pd0DUP9"
      }
    },
    {
      "cell_type": "code",
      "source": [
        "import math\n",
        "\n",
        "# known values\n",
        "side_a =\n",
        "side_b =\n",
        "side_c =\n",
        "\n",
        "# solve\n",
        "part_1 = side_c**2 - side_a**2 - side_b**2\n",
        "part_2 = -(2*side_a*side_b)\n",
        "part_3 = part_1/part_2\n",
        "angle_C = math.degrees(math.acos(part_3))\n",
        "print(\"angle = \", angle_C)\n",
        "\n"
      ],
      "metadata": {
        "id": "799WL2_ADXgD"
      },
      "execution_count": null,
      "outputs": []
    },
    {
      "cell_type": "markdown",
      "source": [
        "Either side or angle unknown - getting user input"
      ],
      "metadata": {
        "id": "kszOJw6YDc_T"
      }
    },
    {
      "cell_type": "code",
      "source": [
        "import math\n",
        "\n",
        "# Get input\n",
        "sideA = float(input(\"Side a: \"))\n",
        "sideB = float(input(\"Side b: \"))\n",
        "print(\"If you don't know the value, put 'x' (no quotes or spaces)\")\n",
        "sideC = input(\"Side c: \")\n",
        "angleC = input(\"Angle C: \")\n",
        "\n",
        "# Solve for angle C\n",
        "if(angleC==\"x\"):\n",
        "    side_C = float(sideC)\n",
        "    step1 = side_C**2 - sideB**2 - sideA**2\n",
        "    step2 = -2*sideA*sideB\n",
        "    ratio_C = step1/step2\n",
        "    radians_C = math.acos(ratio_C)\n",
        "    angle_C = radians_C*180/math.pi\n",
        "    print(\"Angle C = \", angle_C)\n",
        "\n",
        "# Solve for side c\n",
        "if(sideC==\"x\"):\n",
        "    angle_C = float(angleC)\n",
        "    step1 = sideA**2 + sideB**2 - 2*sideA*sideB*math.cos(math.radians(angleC))\n",
        "    side_C = math.sqrt(step1)\n",
        "    print(\"side  = \", side_C)\n",
        "\n",
        "\n"
      ],
      "metadata": {
        "id": "hYzkw44afZK4"
      },
      "execution_count": null,
      "outputs": []
    },
    {
      "cell_type": "markdown",
      "source": [
        "#A new area formula"
      ],
      "metadata": {
        "id": "KDyiaV5_l9ZQ"
      }
    },
    {
      "cell_type": "markdown",
      "source": [
        "To find the area of a triangle without knowing the base or the height:<br>\n",
        "Area = $\\frac{1}{2}*a*b*sin(C)$ <br>Where `a` and `b` are two sides and `C` is the angle between them."
      ],
      "metadata": {
        "id": "KJ1BJpopmAux"
      }
    },
    {
      "cell_type": "code",
      "source": [
        "import math\n",
        "\n",
        "side_A = float(input(\"Side a = \"))\n",
        "side_B = float(input(\"Side b = \"))\n",
        "angle_C = float(input(\"Angle C = \"))\n",
        "\n",
        "area = 0.5*side_A*side_B*math.sin(math.radians(angle_C))\n",
        "print(\"Area = \", area)\n"
      ],
      "metadata": {
        "id": "ebcMr8I9iiYL"
      },
      "execution_count": null,
      "outputs": []
    },
    {
      "cell_type": "markdown",
      "source": [
        "# Solving any triangle"
      ],
      "metadata": {
        "id": "lzwNEOTgHxlK"
      }
    },
    {
      "cell_type": "code",
      "source": [
        "import matplotlib.pyplot as plt\n",
        "import math\n",
        "\n",
        "fig, ax = plt.subplots()\n",
        "plt.axis([-2,12,-2,8])\n",
        "ax.set_title('Not Drawn to Scale')\n",
        "\n",
        "# Draw the sides of the triangle\n",
        "plt.plot([1],[1],'ro')\n",
        "plt.plot([1,5], [1,1], 'b')\n",
        "plt.plot([5],[1],'ro')\n",
        "plt.plot([5,4], [1,4], 'b')\n",
        "plt.plot([4],[4],'ro')\n",
        "plt.plot([1,4], [1,4], 'b')\n",
        "\n",
        "# Label the sides and angles\n",
        "ax.text(0.3,0.8,\"A\")\n",
        "ax.text(4,4.5,\"B\")\n",
        "ax.text(5.4,0.4,\"C\")\n",
        "ax.text(4.9,2.5,\"a\")\n",
        "ax.text(3,0.4,\"b\")\n",
        "ax.text(2,3,\"c\")\n",
        "ax.axes.xaxis.set_visible(False)\n",
        "ax.axes.yaxis.set_visible(False)\n",
        "plt.show()\n",
        "\n",
        "# Show options\n",
        "print(\"What do you know?\")\n",
        "print(\"1 = two sides and the angle between\")\n",
        "print(\"2 = three sides\")\n",
        "print(\"3 = side, angle across, and another angle\")\n",
        "print(\"4 = side, angle across, and another side\")\n",
        "print(\"5 = a right angle and two sides\")\n",
        "print(\"6 = a right angle, a side, and another angle\")\n",
        "opt_number = input(\"Enter one option number: \\n\")\n",
        "\n",
        "\n",
        "# Use these variables\n",
        "angle_A = 0\n",
        "side_A = 0\n",
        "angle_B = 0\n",
        "side_B = 0\n",
        "angle_C = 0\n",
        "side_C = 0\n",
        "area = 0\n",
        "\n",
        "# Law of Cosines to find unknown side\n",
        "if(opt_number==\"1\"):\n",
        "    side_A = float(input(\"Side A = \\n\"))\n",
        "    side_B = float(input(\"Side B = \\n\"))\n",
        "    angle_C = float(input(\"Angle C = \\n\"))\n",
        "    step1 = side_A**2 + side_B**2 - 2*side_A*side_B*math.cos(math.radians(angle_C))\n",
        "    side_C = math.sqrt(step1)\n",
        "    # law of sines to find one other angle\n",
        "    a = side_A*math.sin(math.radians(angle_C))/side_C\n",
        "    angle_A = math.degrees(math.asin(a))\n",
        "    # subtraction to find last angle\n",
        "    angle_B = 180-angle_A-angle_C\n",
        "    # area\n",
        "    area = 0.5*side_A*side_B*math.sin(math.radians(angle_C))\n",
        "\n",
        "# Law of Cosines to find unknown angle\n",
        "if(opt_number==\"2\"):\n",
        "    side_A = float(input(\"Side A = \\n\"))\n",
        "    # complete this code\n",
        "\n",
        "\n",
        "# Law of Sines to find unknown side\n",
        "if(opt_number==\"3\"):\n",
        "    side_A = float(input(\"Side A = \\n\"))\n",
        "    # complete this code\n",
        "\n",
        "\n",
        "# Law of Sines to find unknown angle\n",
        "if(opt_number==\"4\"):\n",
        "    side_A = float(input(\"Side A = \\n\"))\n",
        "    # complete this code\n",
        "\n",
        "\n",
        "# Pythagorean theorem\n",
        "if(opt_number==\"5\"):\n",
        "    print(\"Make Angle C the right angle\")\n",
        "    angle_C = 90\n",
        "    side_A = float(input(\"Side A = \\n\"))\n",
        "    # complete this code\n",
        "\n",
        "\n",
        "# Trig ratios\n",
        "if(opt_number==\"6\"):\n",
        "    print(\"Make Angle C the right angle\")\n",
        "    angle_C = 90\n",
        "    side_A = float(input(\"Side A = \\n\"))\n",
        "    # complete this code\n",
        "\n",
        "\n",
        "# Use these print statements and variables:\n",
        "print(\"Angle A = \", round(angle_A,2))\n",
        "print(\"Side A = \", round(side_A,2))\n",
        "print(\"Angle B = \", round(angle_B,2))\n",
        "print(\"Side B = \", round(side_B,2))\n",
        "print(\"Angle C = \", round(angle_C,2))\n",
        "print(\"Side C = \", round(side_C,2))\n",
        "print(\"Area = \", round(area,2))\n"
      ],
      "metadata": {
        "id": "Ze5n9Cn3H2Fs",
        "colab": {
          "base_uri": "https://localhost:8080/",
          "height": 817
        },
        "outputId": "807951f0-768d-41b6-e68f-5bb0309ec087"
      },
      "execution_count": null,
      "outputs": [
        {
          "output_type": "display_data",
          "data": {
            "text/plain": [
              "<Figure size 640x480 with 1 Axes>"
            ],
            "image/png": "[encoded data removed]"
          },
          "metadata": {}
        },
        {
          "output_type": "stream",
          "name": "stdout",
          "text": [
            "What do you know?\n",
            "1 = two sides and the angle between\n",
            "2 = three sides\n",
            "3 = side, angle across, and another angle\n",
            "4 = side, angle across, and another side\n",
            "5 = a right angle and two sides\n",
            "6 = a right angle, a side, and another angle\n",
            "Enter one option number: \n",
            "1\n",
            "Side A = \n",
            "3\n",
            "Side B = \n",
            "4\n",
            "Angle C = \n",
            "90\n",
            "Angle A =  36.87\n",
            "Side A =  3.0\n",
            "Angle B =  53.13\n",
            "Side B =  4.0\n",
            "Angle C =  90.0\n",
            "Side C =  5.0\n",
            "Area =  6.0\n"
          ]
        }
      ]
    },
    {
      "cell_type": "markdown",
      "source": [
        "# Triangle from points\n",
        "distance formula three times<br>\n",
        "law of cosines twice<br>\n",
        "subtraction\n",
        "\n"
      ],
      "metadata": {
        "id": "sKvJAotVMp2a"
      }
    },
    {
      "cell_type": "code",
      "source": [
        "def triangle(x1,y1,x2,y2,x3,y3):\n",
        "    import math\n",
        "    # get side a\n",
        "    a = math.sqrt((x2-x1)**2 + (y2-y1)**2)\n",
        "    # get side b\n",
        "    b = math.sqrt((x3-x2)**2 + (y3-y2)**2)\n",
        "    # get side c\n",
        "    c = math.sqrt((x3-x1)**2 + (y3-y1)**2)\n",
        "    # get angle a\n",
        "    cos_a = (a**2 - b**2 - c**2)/(-2*b*c)\n",
        "    a_radians = math.acos(cos_a)\n",
        "    a_degrees = math.degrees(a_radians)\n",
        "    # get angle b\n",
        "    cos_b = (b**2 - a**2 - c**2)/(-2*a*c)\n",
        "    b_radians = math.acos(cos_b)\n",
        "    b_degrees = math.degrees(b_radians)\n",
        "    # get angle c\n",
        "    c_radians = math.pi - (a_radians + b_radians)\n",
        "    c_degrees = 180 - (a_degrees + b_degrees)\n",
        "    # get area\n",
        "    area = 0.5*b*c*math.sin(a_radians)\n",
        "    # output\n",
        "    print(\"Angle A = \", round(a_degrees,1))\n",
        "    print(\"Side A = \", round(a,1))\n",
        "    print(\"Angle B = \", round(b_degrees,1))\n",
        "    print(\"Side B = \", round(b,1))\n",
        "    print(\"Angle C = \", round(c_degrees,1))\n",
        "    print(\"Side c = \", round(c,1))\n",
        "    print(\"Area = \", round(area,1))\n",
        "\n",
        "# Call the function\n",
        "triangle(0,3,0,0,4,0)\n"
      ],
      "metadata": {
        "id": "zi0jR6qynsth",
        "colab": {
          "base_uri": "https://localhost:8080/"
        },
        "outputId": "b510184f-37ff-4273-ee45-9e80c7447bbb"
      },
      "execution_count": null,
      "outputs": [
        {
          "output_type": "stream",
          "name": "stdout",
          "text": [
            "Angle A =  36.9\n",
            "Side A =  3.0\n",
            "Angle B =  53.1\n",
            "Side B =  4.0\n",
            "Angle C =  90.0\n",
            "Side c =  5.0\n",
            "Area =  6.0\n"
          ]
        }
      ]
    },
    {
      "cell_type": "markdown",
      "source": [
        "# Matrix operations"
      ],
      "metadata": {
        "id": "c_jbXA-M7VQy"
      }
    },
    {
      "cell_type": "markdown",
      "source": [
        "A numbering plan for variables"
      ],
      "metadata": {
        "id": "Qor5prWO7X4C"
      }
    },
    {
      "cell_type": "markdown",
      "source": [
        "Matrix A:\n",
        "$\\begin{bmatrix} a11 & a12\\\\ a21 & a22 \\end{bmatrix}$\n",
        " Matrix B:\n",
        "$\\begin{bmatrix} b11 & b12 \\\\ b21 & b22 \\end{bmatrix}$\n",
        "<br>\n"
      ],
      "metadata": {
        "id": "ZROdrRho7TBy"
      }
    },
    {
      "cell_type": "code",
      "source": [
        "# enter all values\n",
        "a11=1\n",
        "a12=2\n",
        "a21=3\n",
        "a22=4\n",
        "\n",
        "b11=5\n",
        "b12=6\n",
        "b21=7\n",
        "b22=8"
      ],
      "metadata": {
        "id": "k1ttxjup7saA"
      },
      "execution_count": null,
      "outputs": []
    },
    {
      "cell_type": "markdown",
      "source": [
        "Add [A] + [B] = [C]"
      ],
      "metadata": {
        "id": "xJB84g4L70cR"
      }
    },
    {
      "cell_type": "code",
      "source": [
        "# add corresponding numbers\n",
        "c11 = a11 + b11\n",
        "c12 = a12 + b12\n",
        "c21 = a21 + b21\n",
        "c22 = a22 + b22\n",
        "\n",
        "print(c11,c12)\n",
        "print(c21,c22)"
      ],
      "metadata": {
        "id": "PdZ424yR75SR"
      },
      "execution_count": null,
      "outputs": []
    },
    {
      "cell_type": "markdown",
      "source": [
        "Multiply [A] * [B] = [C]"
      ],
      "metadata": {
        "id": "vXH5q_CB8JhL"
      }
    },
    {
      "cell_type": "code",
      "source": [
        "import numpy as np\n",
        "\n",
        "# enter all values\n",
        "a11=1\n",
        "a12=2\n",
        "a21=3\n",
        "a22=4\n",
        "\n",
        "b11=5\n",
        "b12=6\n",
        "b21=7\n",
        "b22=8\n",
        "\n",
        "# The actual steps\n",
        "c11 = a11*b11 + a12*b21\n",
        "c12 = a11*b12 + a12*b22\n",
        "c21 = a21*b11 + a22*b21\n",
        "c22 = a21*b12 + a22*b22\n",
        "\n",
        "print(\"Multiplying Matrix A * Matrix B:\")\n",
        "print(c11,c12)\n",
        "print(c21,c22)\n",
        "\n",
        "# numpy\n",
        "print(\"\\n same matrix:\")\n",
        "A = np.array([[a11, a12], [a21, a22]])\n",
        "B = np.array([[b11,b12], [b21,b22]])\n",
        "C = A.dot(B)\n",
        "print(C)\n",
        "\n",
        "# np.matrix\n",
        "print(\"\\n np.matrix:\")\n",
        "E = np.matrix([[a11, a12], [a21, a22]])\n",
        "F = np.matrix([[b11,b12], [b21,b22]])\n",
        "G = E.dot(F)\n",
        "print(G)\n",
        "\n"
      ],
      "metadata": {
        "id": "3_DkYLYU8LYL"
      },
      "execution_count": null,
      "outputs": []
    },
    {
      "cell_type": "markdown",
      "source": [
        "Other matrix operations"
      ],
      "metadata": {
        "id": "aEvRuRb48RPj"
      }
    },
    {
      "cell_type": "code",
      "source": [
        "# more about Matrix A\n",
        "print(\"\\n inverse of Matrix A:\")\n",
        "print(np.linalg.inv(A))\n",
        "print(\"\\n determinant of Matrix A:\")\n",
        "print(round(np.linalg.det(A)))\n",
        "print(\"\\n Matrix A multiplied by its inverse:\")\n",
        "D = np.around(A.dot(np.linalg.inv(A)))\n",
        "print(D)"
      ],
      "metadata": {
        "id": "3YeJ7D8_8TS8"
      },
      "execution_count": null,
      "outputs": []
    },
    {
      "cell_type": "markdown",
      "source": [
        "Another way to multiply"
      ],
      "metadata": {
        "id": "nwITrUi38gu7"
      }
    },
    {
      "cell_type": "code",
      "source": [
        "import numpy as np\n",
        "\n",
        "# Matrices as matrix objects\n",
        "c = np.matrix([[1, 2], [3, 4]])\n",
        "d = np.matrix([[5, 6, 7], [8, 9, 10]])\n",
        "print(\"\\nc\", type(c))\n",
        "print(c)\n",
        "print(\"\\nd\", type(d))\n",
        "print(d)\n",
        "print(\"\\ndot product of two matrix objects\")\n",
        "print(np.dot(c, d))\n"
      ],
      "metadata": {
        "id": "-UmmPxtj8jek"
      },
      "execution_count": null,
      "outputs": []
    },
    {
      "cell_type": "markdown",
      "source": [
        "Converting matrix and array objects in numpy"
      ],
      "metadata": {
        "id": "FE5I0nFH8sbL"
      }
    },
    {
      "cell_type": "code",
      "source": [
        "import numpy as np\n",
        "from sympy import *\n",
        "\n",
        "# Create an array\n",
        "arr = np.array([[14, 0, 11, 3], [22, 25, 4, 7], [-12, -34, -3, -4]])\n",
        "\n",
        "# Create a matrix from that array\n",
        "M = Matrix(arr)\n",
        "print(\"Matrix : {} \".format(M))\n",
        "\n",
        "# could start by creating a matrix instead\n",
        "# M = Matrix([[14, 0, 11, 3], [22, 23, 4, 7], [-12, -34, -3, -4]])\n",
        "\n",
        "# convert that matrix back to an array\n",
        "A = np.array(M)\n",
        "print(\"\\n same matrix:\")\n",
        "print(A)\n",
        "\n",
        "# Solve using rref in the matrix\n",
        "print(\"\\n answers:\")\n",
        "M_rref = M.rref()\n",
        "x = M_rref[0][3]\n",
        "y = M_rref[0][7]\n",
        "z = M_rref[0][11]\n",
        "print(\"x = \", x)\n",
        "print(\"y = \", y)\n",
        "print(\"z = \", z)\n",
        "\n",
        "print(\"\\n row echelon form of matrix M: \\n {}\".format(M_rref))\n"
      ],
      "metadata": {
        "id": "ZuPsvxR-8xHL"
      },
      "execution_count": null,
      "outputs": []
    },
    {
      "cell_type": "markdown",
      "source": [
        "# A quadratic equation from 3 points"
      ],
      "metadata": {
        "id": "-zv4Oife88nr"
      }
    },
    {
      "cell_type": "markdown",
      "source": [
        "points: (x1, y1), (x2, y2), (x3, y3)<p>\n",
        "Standard equation: Ax<sup>2</sup> + Bx + C = y<br>\n",
        "first point: A(x1)<sup>2</sup> + B(x1) + C = y1<br>\n",
        "Second point: A(x2)<sup>2</sup> + B(x2) + C = y2<br>\n",
        "Third point: A(x3)<sup>2</sup> + B(x3) + C = y3<p>\n",
        "Matrix:<br>\n",
        "$\\begin{bmatrix} (x1)^2 & x1 & 1 & y1\n",
        "\\\\ (x2)^2 & x2 & 1 & y2\n",
        "\\\\ (x3)^2 & x3 & 1 & y3  \\end{bmatrix}$"
      ],
      "metadata": {
        "id": "PqlvSAzB9CkD"
      }
    },
    {
      "cell_type": "code",
      "source": [
        "import numpy as np\n",
        "from sympy import *\n",
        "\n",
        "# points\n",
        "x1=-2\n",
        "y1=0\n",
        "x2=-3\n",
        "y2=0\n",
        "x3=-2.5\n",
        "y3=-.25\n",
        "\n",
        "\n",
        "M = Matrix([[x1**2,x1,1,y1],[x2**2,x2,1,y2],[x3**2,x3,1,y3]])\n",
        "m_rref = M.rref()\n",
        "\n",
        "# answers\n",
        "a = round(m_rref[0][3])\n",
        "b = round(m_rref[0][7])\n",
        "c = round(m_rref[0][11])\n",
        "print(\"a = \", a)\n",
        "print(\"b = \", b)\n",
        "print(\"c = \", c)\n",
        "\n",
        "print(\"y = \", a,\"x**2 + \", b, \"x + \", c)\n",
        "print(\"\\n row echelon form of matrix M: \\n {}\".format(m_rref))\n",
        "\n"
      ],
      "metadata": {
        "id": "1b5BvWRA9VuL"
      },
      "execution_count": null,
      "outputs": []
    },
    {
      "cell_type": "markdown",
      "source": [
        "# Inverse matrix to solve a system of equations"
      ],
      "metadata": {
        "id": "yfFtUDQN9gqy"
      }
    },
    {
      "cell_type": "code",
      "source": [
        "import numpy as np\n",
        "from sympy import *\n",
        "\n",
        "# use arrays instead of matrices\n",
        "a1 = np.array([[14, 0, 11], [22, 23, 4], [-12, -34, -3]])\n",
        "a2 = np.array([[3],[7],[-4]])\n",
        "\n",
        "m_inv = np.linalg.inv(a1)\n",
        "m_dot_a = np.around(np.dot(m_inv,a1))\n",
        "m_dot = np.dot(m_inv,a2)\n",
        "print(m_dot)\n",
        "\n",
        "print(\"\\n compare:\")\n",
        "print(445/1358)\n",
        "print(10/679)\n",
        "print(-14/97)\n",
        "\n",
        "print(m_dot_a)\n"
      ],
      "metadata": {
        "id": "YjBO3q8V9k1q"
      },
      "execution_count": null,
      "outputs": []
    },
    {
      "cell_type": "markdown",
      "source": [
        "Another inverse matrix example"
      ],
      "metadata": {
        "id": "4DEY4cnD9tgS"
      }
    },
    {
      "cell_type": "code",
      "source": [
        "import numpy as np\n",
        "from sympy import *\n",
        "\n",
        "# points\n",
        "x1=-2\n",
        "y1=0\n",
        "x2=-3\n",
        "y2=0\n",
        "x3=-2.5\n",
        "y3=-.25\n",
        "\n",
        "# rref method\n",
        "M = Matrix([[x1**2,x1,1,y1],[x2**2,x2,1,y2],[x3**2,x3,1,y3]])\n",
        "m_rref = M.rref()\n",
        "\n",
        "# answers\n",
        "a = round(m_rref[0][3])\n",
        "b = round(m_rref[0][7])\n",
        "c = round(m_rref[0][11])\n",
        "print(\"a = \", a)\n",
        "print(\"b = \", b)\n",
        "print(\"c = \", c)\n",
        "\n",
        "# inverse matrix method\n",
        "arr_3x3 = np.array([[x1**2,x1,1],[x2**2,x2,1],[x3**2,x3,1]])\n",
        "arr_3x1 = np.array([[y1],[y2],[y3]])\n",
        "arr_inv = np.linalg.inv(arr_3x3)\n",
        "identity = np.around(np.dot(arr_inv,arr_3x3))\n",
        "arr_values = np.dot(arr_inv,arr_3x1)\n",
        "print(identity)\n",
        "print(\"answers\")\n",
        "print(arr_values)\n",
        "print(\"a = \", round(arr_values.item(0)))\n",
        "print(\"b = \", round(arr_values.item(1)))\n",
        "print(\"c = \", round(arr_values.item(2)))\n"
      ],
      "metadata": {
        "id": "3W3zqgAX9wyR"
      },
      "execution_count": null,
      "outputs": []
    },
    {
      "cell_type": "markdown",
      "source": [
        "# Encoding and decoding messages"
      ],
      "metadata": {
        "id": "dYkk5fBj99z6"
      }
    },
    {
      "cell_type": "markdown",
      "source": [
        "Non-matrix method"
      ],
      "metadata": {
        "id": "Q9vhwGfk-NVp"
      }
    },
    {
      "cell_type": "code",
      "source": [
        "import numpy\n",
        "\n",
        "# get input\n",
        "in_text = input(\"Enter text to encode: \")\n",
        "in_numbers = []\n",
        "for a in in_text:\n",
        "    in_numbers.append(ord(a))\n",
        "\n",
        "# encode\n",
        "encoded_numbers = []\n",
        "for b in in_numbers:\n",
        "    # this math can get more complex\n",
        "    cipher = b + 37\n",
        "    encoded_numbers.append(cipher)\n",
        "\n",
        "# encoded message\n",
        "print(encoded_numbers)\n",
        "\n",
        "# get numbers to decode\n",
        "in_code = input(\"Enter text to decode: \")\n",
        "in_num = in_code.split(\",\")\n",
        "\n",
        "# decode\n",
        "decoded_letters = \" \"\n",
        "for d in in_num:\n",
        "    # inverse of the encoding math\n",
        "    decipher = int(d) - 37\n",
        "    decoded_letters += chr(decipher)\n",
        "\n",
        "# decoded message\n",
        "print(\"decoded \\n\", decoded_letters)\n"
      ],
      "metadata": {
        "id": "CU7URIZ5-Cgw"
      },
      "execution_count": null,
      "outputs": []
    },
    {
      "cell_type": "markdown",
      "source": [
        "Matrix method - Every two characters in the message becomes a (1 x 2) matrix, multiplied by a (2 x 2) matrix to encode or decode"
      ],
      "metadata": {
        "id": "x-EyaezO-QYR"
      }
    },
    {
      "cell_type": "code",
      "source": [
        "import numpy as np\n",
        "\n",
        "# arrays insted of matrices\n",
        "encode = np.array([[2,4],[6,8]])\n",
        "decode = np.linalg.inv(encode)\n",
        "\n",
        "# get input\n",
        "in_text = input(\"Enter text to encode: \")\n",
        "in_numbers = []\n",
        "for a in in_text:\n",
        "    in_numbers.append(ord(a))\n",
        "\n",
        "# make sure the array is even\n",
        "if len(in_text)%2 != 0:\n",
        "    in_numbers.append(46)\n",
        "\n",
        "# encode\n",
        "encoded_numbers = []\n",
        "temp_1 = 0\n",
        "temp_2 = 0\n",
        "pn = -1\n",
        "for b in in_numbers:\n",
        "    if pn==-1:\n",
        "        temp_1 = b\n",
        "        pn = pn*(-1)\n",
        "    else:\n",
        "        temp_2 = b\n",
        "        mat = np.array([temp_1,temp_2])\n",
        "        en_dot = np.dot(mat,encode)\n",
        "        encoded_numbers.append(en_dot.item(0))\n",
        "        encoded_numbers.append(en_dot.item(1))\n",
        "        pn = pn*(-1)\n",
        "\n",
        "# encoded message\n",
        "print(encoded_numbers)\n",
        "\n",
        "# get numbers to decode\n",
        "in_code = input(\"Enter text to decode: \")\n",
        "in_num = in_code.split(\",\")\n",
        "\n",
        "# decode\n",
        "decoded_letters = \" \"\n",
        "p_n = -1\n",
        "for d in in_num:\n",
        "    d_float = float(d)\n",
        "    if p_n==-1:\n",
        "        temp_1 = d_float\n",
        "        p_n = p_n*(-1)\n",
        "    else:\n",
        "        temp_2 = d_float\n",
        "        mat = np.array([temp_1,temp_2])\n",
        "        de_dot = np.dot(mat,decode)\n",
        "        decipher = int(de_dot.item(0))\n",
        "        decoded_letters += chr(decipher)\n",
        "        decipher2 = int(round(de_dot.item(1))) # rounding adjustment\n",
        "        decoded_letters += chr(decipher2)\n",
        "        p_n = p_n*(-1)\n",
        "\n",
        "# decoded message\n",
        "print(\"decoded \\n\", decoded_letters)\n"
      ],
      "metadata": {
        "id": "FczqC4h_-TZ5"
      },
      "execution_count": null,
      "outputs": []
    },
    {
      "cell_type": "markdown",
      "source": [
        "# Complex Numbers"
      ],
      "metadata": {
        "id": "ENefOds2olfX"
      }
    },
    {
      "cell_type": "markdown",
      "source": [
        "i = $\\sqrt{-1}$<p>\n",
        "Calculating and displaying complex numbers"
      ],
      "metadata": {
        "id": "PdA-EYzGopPm"
      }
    },
    {
      "cell_type": "code",
      "source": [
        "import cmath\n",
        "import math\n",
        "\n",
        "z1 = complex(2, 3)\n",
        "print(z1)\n",
        "print(\"z1 real = \", z1.real)\n",
        "print(\"z1 imaginary = \", z1.imag)\n",
        "\n",
        "z2 = complex(1, 2)\n",
        "z3 = complex(0,math.pi)\n",
        "z4 = math.e**z3\n",
        "\n",
        "print(z1-z2)\n",
        "print(z1**2)\n",
        "print(math.e**z3)\n",
        "print(round(z4.real), \" + \", round(z4.imag), \"i\")\n"
      ],
      "metadata": {
        "id": "CjmTGzBiorHP"
      },
      "execution_count": null,
      "outputs": []
    },
    {
      "cell_type": "markdown",
      "source": [
        "Graphing on the real and imaginary axis"
      ],
      "metadata": {
        "id": "5mn27pd5o_xu"
      }
    },
    {
      "cell_type": "code",
      "source": [
        "import cmath\n",
        "import math\n",
        "import numpy as np\n",
        "import matplotlib.pyplot as plt\n",
        "\n",
        "x_min = -2\n",
        "x_max = 2\n",
        "y_min = -2\n",
        "y_max = 2\n",
        "\n",
        "plt.xlabel('Real')\n",
        "plt.ylabel('Imaginary')\n",
        "#plt.title(' ')\n",
        "\n",
        "comp = complex(1, 0.75)\n",
        "x1 = comp.real\n",
        "y1 = comp.imag\n",
        "\n",
        "a = np.linspace(0,7,140)\n",
        "points = np.cos(a) + np.sin(a)*1j\n",
        "x2 = points.real\n",
        "y2 = points.imag\n",
        "\n",
        "plt.plot(x2,y2,'b') # points or line\n",
        "plt.show()\n"
      ],
      "metadata": {
        "id": "rENwvLqOpEnu"
      },
      "execution_count": null,
      "outputs": []
    },
    {
      "cell_type": "markdown",
      "source": [
        "# Mandelbrot Set"
      ],
      "metadata": {
        "id": "zwXSSVl9pQt9"
      }
    },
    {
      "cell_type": "code",
      "source": [
        "import numpy as np\n",
        "import matplotlib.pyplot as plt\n",
        "\n",
        "def mandelbrot(c, max_iter):\n",
        "    z = 0\n",
        "    for i in range(max_iter):\n",
        "        z = z*z + c\n",
        "        if abs(z) > 2:\n",
        "            return i\n",
        "    return max_iter\n",
        "\n",
        "def plot_mandelbrot(x_min, x_max, y_min, y_max, width, height, max_iter):\n",
        "    x = np.linspace(x_min, x_max, width)\n",
        "    y = np.linspace(y_min, y_max, height)\n",
        "    X, Y = np.meshgrid(x, y)\n",
        "    Z = X + 1j * Y\n",
        "    img = np.zeros((height, width))\n",
        "\n",
        "    for i in range(height):\n",
        "        for j in range(width):\n",
        "            c = Z[i, j]\n",
        "            img[i, j] = mandelbrot(c, max_iter)\n",
        "\n",
        "    plt.imshow(img.T, cmap='hot', extent=[x_min, x_max, y_min, y_max])\n",
        "    plt.xlabel('Re(c)')\n",
        "    plt.ylabel('Im(c)')\n",
        "    plt.title('Mandelbrot Set')\n",
        "    plt.show()\n",
        "\n",
        "# Define the parameters for the plot\n",
        "x_min = -2.5 #0.32\n",
        "x_max = 1 #0.36\n",
        "y_min = -1.5 #-0.54\n",
        "y_max = 1.5 #-0.50\n",
        "width = 800\n",
        "height = 600\n",
        "max_iter = 100\n",
        "\n",
        "# Call the plotting function\n",
        "plot_mandelbrot(x_min, x_max, y_min, y_max, width, height, max_iter)\n"
      ],
      "metadata": {
        "id": "ucVd4kbcpVT8"
      },
      "execution_count": null,
      "outputs": []
    },
    {
      "cell_type": "markdown",
      "source": [
        "# Projectile motion"
      ],
      "metadata": {
        "id": "pmCiQLXlQ046"
      }
    },
    {
      "cell_type": "markdown",
      "source": [
        "Range on flat ground<p>\n",
        "range = $\\frac{v^2*sin(2\\theta)}g$"
      ],
      "metadata": {
        "id": "6F0MwCHuQ785"
      }
    },
    {
      "cell_type": "code",
      "source": [
        "import math\n",
        "\n",
        "# initial velocity in meters per second\n",
        "v = 50\n",
        "\n",
        "# initial angle of projectile in radians\n",
        "a = math.pi/4\n",
        "\n",
        "# gravity in meters per second squared\n",
        "g = 9.8\n",
        "\n",
        "range = (v**2*math.sin(2*a))/g\n",
        "print(round(range,3), \"meters\")\n"
      ],
      "metadata": {
        "id": "GYDhZWBJleNF"
      },
      "execution_count": null,
      "outputs": []
    },
    {
      "cell_type": "markdown",
      "source": [
        "Range on a slope inclining at angle b from the horizontal<p>\n",
        "range = $\\frac{v^2*[sin(2\\theta-b)-sin(b)]}{g*cos^2(b)}$"
      ],
      "metadata": {
        "id": "MJTKB1RbRJWQ"
      }
    },
    {
      "cell_type": "code",
      "source": [
        "import math\n",
        "\n",
        "# initial velocity in meters per second\n",
        "v = 50\n",
        "\n",
        "# initial angle of projectile in radians\n",
        "a = math.pi/4\n",
        "\n",
        "# angle the slope makes with the horizontal in radians\n",
        "b = math.pi/4.1\n",
        "\n",
        "# gravity in meters per second squared\n",
        "g = 9.8\n",
        "\n",
        "range = (v**2*(math.sin(2*a-b)-math.sin(b)))/(g*math.cos(b)**2)\n",
        "print(round(range,3), \"meters\")\n"
      ],
      "metadata": {
        "id": "vtVma1DqRM8o"
      },
      "execution_count": null,
      "outputs": []
    },
    {
      "cell_type": "markdown",
      "source": [
        "Range on a slope declining at angle d from the horizontal<p>\n",
        "range = $\\frac{2*v^2*sin(\\theta)*cos(\\theta-d)}{g*cos^2(d)}$"
      ],
      "metadata": {
        "id": "Vh8Z7DOORPVP"
      }
    },
    {
      "cell_type": "code",
      "source": [
        "import math\n",
        "\n",
        "# initial velocity in meters per second\n",
        "v = 50\n",
        "\n",
        "# initial angle projectile makes with plane in radians\n",
        "a = math.pi/4\n",
        "\n",
        "# angle the plane makes with the horizontal in radians\n",
        "d = math.pi/6\n",
        "\n",
        "# gravity in meters per second squared\n",
        "g = 9.8\n",
        "\n",
        "range = (2*v**2*math.sin(a)*math.cos(a-d))/(g*math.cos(d)**2)\n",
        "print(round(range,3), \"meters\")\n"
      ],
      "metadata": {
        "id": "HAhj6H4ZRTf3"
      },
      "execution_count": null,
      "outputs": []
    },
    {
      "cell_type": "markdown",
      "source": [
        "Maximum height of a projectile<p>\n",
        "height = $\\frac{v^2*sin^2(\\theta)}{2g}$"
      ],
      "metadata": {
        "id": "L5bgz5XJRXD3"
      }
    },
    {
      "cell_type": "code",
      "source": [
        "import math\n",
        "\n",
        "# initial velocity in meters per second\n",
        "v = 50\n",
        "\n",
        "# initial angle of projectile in radians\n",
        "a = math.pi/4\n",
        "\n",
        "# gravity in meters per second squared\n",
        "g = 9.8\n",
        "\n",
        "height = (v**2*math.sin(a)**2)/(2*g)\n",
        "print(round(height,3), \"meters\")\n"
      ],
      "metadata": {
        "id": "U0FzTE1hRfb2"
      },
      "execution_count": null,
      "outputs": []
    },
    {
      "cell_type": "markdown",
      "source": [
        "# Hours of daylight\n",
        "<p>\n",
        "source:\n",
        " https://web.archive.org/web/20180128172128/http://mathforum.org/library/drmath/view/56478.html\n",
        "\n"
      ],
      "metadata": {
        "id": "GySNfiIPIwLw"
      }
    },
    {
      "cell_type": "code",
      "source": [
        "import math\n",
        "\n",
        "# latitude in degrees (up to 65)\n",
        "L = 65\n",
        "\n",
        "# day of the year\n",
        "J = 173\n",
        "\n",
        "# calculations in several steps\n",
        "t1 = 0.9671396*math.tan(0.00860*(J-186))\n",
        "p = math.asin(0.39795*math.cos(0.2163108 + 2*math.atan(t1)))\n",
        "d1 = math.sin(0.8333*math.pi/180) + math.sin(L*math.pi/180) * math.sin(p)\n",
        "d2 = math.cos(L*math.pi/180)*math.cos(p)\n",
        "daylight = 24 - (24/math.pi)*math.acos(d1/d2)\n",
        "print(round(daylight,1), \" hours\")\n"
      ],
      "metadata": {
        "id": "tmh3NSSOhKcU",
        "colab": {
          "base_uri": "https://localhost:8080/"
        },
        "outputId": "4e67602a-943b-4bcf-c17c-7d8c395f607d"
      },
      "execution_count": null,
      "outputs": [
        {
          "output_type": "stream",
          "name": "stdout",
          "text": [
            "22.1  hours\n"
          ]
        }
      ]
    },
    {
      "cell_type": "markdown",
      "source": [
        "# Logistic growth"
      ],
      "metadata": {
        "id": "AMr-A-ZDSHcA"
      }
    },
    {
      "cell_type": "markdown",
      "source": [
        "y = $\\frac{c}{1+ae^{-bx}}$<p>\n",
        "\n",
        "Horizontal asymptotes at y = c and y = 0\n"
      ],
      "metadata": {
        "id": "2lBGWetPSK9v"
      }
    },
    {
      "cell_type": "code",
      "source": [
        "from ast import Break\n",
        "import matplotlib.pyplot as plt\n",
        "from IPython import display\n",
        "import numpy as np\n",
        "import math\n",
        "\n",
        "# carrying capacity (maximum y value)\n",
        "c = 10\n",
        "\n",
        "# a > 0\n",
        "a = 2\n",
        "\n",
        "# growth if b > 0, decay if b < 0\n",
        "b = -0.3\n",
        "\n",
        "# find good xmin and xmax values\n",
        "for x_test in range(1000):\n",
        "    y = c/(1+a*math.e**(-b*x_test))\n",
        "    if b>0 and y>(c/2):\n",
        "        xmax = int(round(5*x_test))\n",
        "        xmin = -xmax\n",
        "        break\n",
        "\n",
        "    if b<0 and y<(c/2):\n",
        "        xmax = int(round(5*x_test))\n",
        "        xmin = -xmax\n",
        "        break\n",
        "\n",
        "\n",
        "if abs(xmax-xmin)<20:\n",
        "    xmin = -20\n",
        "    xmax = 20\n",
        "\n",
        "# Graph dimensions\n",
        "# xmin = calculated\n",
        "# xmax = calculated\n",
        "ymin = -2\n",
        "ymax = c + 2\n",
        "points = 10*(xmax-xmin)\n",
        "x = np.linspace(xmin, xmax, points)\n",
        "\n",
        "fig, ax = plt.subplots()\n",
        "plt.axis([xmin,xmax, ymin,ymax])\n",
        "plt.plot([xmin, xmax],[0,0],'b')\n",
        "plt.plot([0,0],[ymin, ymax],'b')\n",
        "\n",
        "y = c/(1+a*math.e**(-b*x))\n",
        "plt.plot(x,y,'r')\n",
        "\n",
        "plt.show()"
      ],
      "metadata": {
        "colab": {
          "base_uri": "https://localhost:8080/",
          "height": 435
        },
        "id": "4zs1V3v9MyzG",
        "outputId": "854a9fae-f176-4f33-a79a-67a213206332"
      },
      "execution_count": null,
      "outputs": [
        {
          "output_type": "display_data",
          "data": {
            "text/plain": [
              "<Figure size 640x480 with 1 Axes>"
            ],
            "image/png": "[encoded data removed]"
          },
          "metadata": {}
        }
      ]
    },
    {
      "cell_type": "markdown",
      "source": [
        "# Limits"
      ],
      "metadata": {
        "id": "SvZTGf91jlbo"
      }
    },
    {
      "cell_type": "code",
      "source": [
        "import matplotlib.pyplot as plt\n",
        "from IPython import display\n",
        "import numpy as np\n",
        "import math\n",
        "\n",
        "# Graph dimensions\n",
        "xmin = -7\n",
        "xmax = 7\n",
        "ymin = -2\n",
        "ymax = 2\n",
        "points = 10*(xmax-xmin)\n",
        "x = np.linspace(xmin, xmax, points)\n",
        "\n",
        "fig, ax = plt.subplots()\n",
        "plt.axis([xmin,xmax, ymin,ymax])\n",
        "plt.plot([xmin, xmax],[0,0],'b')\n",
        "plt.plot([0,0],[ymin, ymax],'b')\n",
        "\n",
        "y = np.sin(x)/x\n",
        "plt.plot(x,y,'r')\n",
        "\n",
        "plt.show()\n",
        "\n",
        "# testing y values\n",
        "x_value = 0\n",
        "diff = 0.01\n",
        "x_test_right = x_value + diff\n",
        "x_test_left = x_value - diff\n",
        "\n",
        "print(math.sin(x_test_right)/x_test_right)\n",
        "print(math.sin(x_test_left)/x_test_left)\n",
        "\n"
      ],
      "metadata": {
        "id": "XGDh_QdOXrLt"
      },
      "execution_count": null,
      "outputs": []
    },
    {
      "cell_type": "markdown",
      "source": [
        "Trig factoring"
      ],
      "metadata": {
        "id": "cUjgleSWfll4"
      }
    },
    {
      "cell_type": "code",
      "source": [
        "from sympy import *\n",
        "\n",
        "x,y = symbols('x y')\n",
        "init_printing(use_unicode=True)\n",
        "\n",
        "# trigsimp(sin(x)**2 + cos(x)**2)\n",
        "# trigsimp(1 + cot(x)**2)\n",
        "# trigsimp(1/sec(x))\n",
        "# trigsimp(1/cos(x)) no\n",
        "\n",
        "# trigsimp(sin(x+y)) no\n",
        "# trigsimp(sin(x)*cos(y)+cos(x)*sin(y))\n",
        "trigsimp(sin(x)/cos(x))\n",
        "# trigsimp(tan(x)) no\n",
        "\n",
        "# no half angle formulas\n",
        "# trigsimp((1-cos(x))/sin(x)) no\n",
        "# trigsimp(tan(x/2)) no\n",
        "\n",
        "# yes double angle formulas\n",
        "# trigsimp(sin(2*x)) no\n",
        "# trigsimp(2*sin(x)*cos(x))\n",
        "# trigsimp((2*tan(x))/(1-tan(x)**2))\n",
        "\n",
        "# trigsimp(0.5*(cos(x-y) - cos(x+y)))\n",
        "# trigsimp(sin(x)+sin(y)) no\n",
        "trigsimp(2*sin((x+y)/2)*cos((x-y)/2))\n"
      ],
      "metadata": {
        "colab": {
          "base_uri": "https://localhost:8080/",
          "height": 38
        },
        "id": "kuUFfM3HfrLH",
        "outputId": "b702a424-aac9-4a33-c21b-816d3fb7b293"
      },
      "execution_count": null,
      "outputs": [
        {
          "output_type": "execute_result",
          "data": {
            "text/plain": [
              "sin(x) + sin(y)"
            ],
            "text/latex": "$\\displaystyle \\sin{\\left(x \\right)} + \\sin{\\left(y \\right)}$"
          },
          "metadata": {},
          "execution_count": 33
        }
      ]
    },
    {
      "cell_type": "markdown",
      "source": [
        "."
      ],
      "metadata": {
        "id": "lt4uvvN3fqGQ"
      }
    },
    {
      "cell_type": "markdown",
      "source": [
        "."
      ],
      "metadata": {
        "id": "dAzA-HdvpjpK"
      }
    },
    {
      "cell_type": "code",
      "source": [],
      "metadata": {
        "id": "InEW0Emwj9EP"
      },
      "execution_count": null,
      "outputs": []
    },
    {
      "cell_type": "markdown",
      "source": [
        "# Poisson Distribution"
      ],
      "metadata": {
        "id": "A2XeJAYGppZZ"
      }
    },
    {
      "cell_type": "markdown",
      "source": [
        "y = $\\frac{\\lambda^x}{x!}*e^{-\\lambda}$<p>\n",
        "where lambda ($\\lambda$) is the expected value<p>\n",
        "What is the probability that x happens?"
      ],
      "metadata": {
        "id": "KQnXIuf6p3aw"
      }
    },
    {
      "cell_type": "code",
      "source": [
        "import math\n",
        "import matplotlib.pyplot as plt\n",
        "from IPython import display\n",
        "import numpy as np\n",
        "\n",
        "# expected value\n",
        "lam = 4\n",
        "\n",
        "# Graph dimensions\n",
        "xmin = 1\n",
        "xmax = 10 # could change\n",
        "ymin = 0\n",
        "ymax = 1\n",
        "\n",
        "# create arrays to plot\n",
        "x = []\n",
        "y = []\n",
        "\n",
        "for x_next in range(1,10):\n",
        "    x.append(x_next)\n",
        "    y.append((lam**x_next)/math.factorial(x_next)*math.e**(-lam))\n",
        "\n",
        "fig, ax = plt.subplots()\n",
        "plt.axis([xmin,xmax, ymin,ymax])\n",
        "plt.plot([xmin, xmax],[0,0],'b')\n",
        "plt.plot([0,0],[ymin, ymax],'b')\n",
        "\n",
        "plt.plot(x,y,'r')\n",
        "\n",
        "plt.show()\n"
      ],
      "metadata": {
        "colab": {
          "base_uri": "https://localhost:8080/",
          "height": 435
        },
        "id": "ed64eWhDpuR4",
        "outputId": "50fc8605-e142-4959-8959-b837bf624684"
      },
      "execution_count": null,
      "outputs": [
        {
          "output_type": "display_data",
          "data": {
            "text/plain": [
              "<Figure size 640x480 with 1 Axes>"
            ],
            "image/png": "[encoded data removed]"
          },
          "metadata": {}
        }
      ]
    },
    {
      "cell_type": "code",
      "source": [],
      "metadata": {
        "id": "R4ditHs2rbSf"
      },
      "execution_count": null,
      "outputs": []
    }
  ]
}